{
 "cells": [
  {
   "cell_type": "markdown",
   "metadata": {},
   "source": [
    "### Decorators Application (Timing)"
   ]
  },
  {
   "cell_type": "markdown",
   "metadata": {},
   "source": [
    "Here we go back to an example we have seen in the past - timing how long it takes to run a certain function."
   ]
  },
  {
   "cell_type": "code",
   "execution_count": 5,
   "metadata": {
    "jupyter": {
     "outputs_hidden": true
    }
   },
   "outputs": [],
   "source": [
    "def timed(fn):\n",
    "    from time import perf_counter\n",
    "    from functools import wraps\n",
    "    \n",
    "    @wraps(fn)\n",
    "    def inner(*args, **kwargs):\n",
    "        start = perf_counter()\n",
    "        result = fn(*args, **kwargs)\n",
    "        end = perf_counter()\n",
    "        elapsed = end - start\n",
    "        \n",
    "        args_ = [str(a) for a in args]\n",
    "        kwargs_ = ['{0}={1}'.format(k, v) for (k, v) in kwargs.items()]\n",
    "        all_args = args_ + kwargs_\n",
    "        args_str = ','.join(all_args)\n",
    "        print('{0}({1}) took {2:.6f}s to run.'.format(fn.__name__, \n",
    "                                                         args_str,\n",
    "                                                         elapsed))\n",
    "        return result\n",
    "    \n",
    "    return inner"
   ]
  },
  {
   "cell_type": "markdown",
   "metadata": {},
   "source": [
    "Let's write a function that calculates the n-th Fibonacci number:\n",
    "\n",
    "`1, 1, 2, 3, 5, 8, ...`\n",
    "\n",
    "We will implement this using two different methods:\n",
    "1. recursion\n",
    "2. a loop\n",
    "\n",
    "We use a 1-based system, e.g. first Fibonnaci number has index 1, etc."
   ]
  },
  {
   "cell_type": "markdown",
   "metadata": {},
   "source": [
    "#### Using Recursion\n"
   ]
  },
  {
   "cell_type": "code",
   "execution_count": 6,
   "metadata": {
    "jupyter": {
     "outputs_hidden": true
    }
   },
   "outputs": [],
   "source": [
    "def calc_recursive_fib(n): \n",
    "    if n <=2:\n",
    "        return 1\n",
    "    else:\n",
    "        return calc_recursive_fib(n-1) + calc_recursive_fib(n-2)"
   ]
  },
  {
   "cell_type": "code",
   "execution_count": 7,
   "metadata": {},
   "outputs": [
    {
     "data": {
      "text/plain": [
       "2"
      ]
     },
     "execution_count": 7,
     "metadata": {},
     "output_type": "execute_result"
    }
   ],
   "source": [
    "calc_recursive_fib(3)"
   ]
  },
  {
   "cell_type": "code",
   "execution_count": 8,
   "metadata": {},
   "outputs": [
    {
     "data": {
      "text/plain": [
       "8"
      ]
     },
     "execution_count": 8,
     "metadata": {},
     "output_type": "execute_result"
    }
   ],
   "source": [
    "calc_recursive_fib(6)"
   ]
  },
  {
   "cell_type": "code",
   "execution_count": 9,
   "metadata": {
    "jupyter": {
     "outputs_hidden": true
    }
   },
   "outputs": [],
   "source": [
    "@timed\n",
    "def fib_recursed(n):\n",
    "    return calc_recursive_fib(n)"
   ]
  },
  {
   "cell_type": "code",
   "execution_count": 10,
   "metadata": {},
   "outputs": [
    {
     "name": "stdout",
     "output_type": "stream",
     "text": [
      "fib_recursed(33) took 0.825229s to run.\n"
     ]
    },
    {
     "data": {
      "text/plain": [
       "3524578"
      ]
     },
     "execution_count": 10,
     "metadata": {},
     "output_type": "execute_result"
    }
   ],
   "source": [
    "fib_recursed(33)"
   ]
  },
  {
   "cell_type": "code",
   "execution_count": 11,
   "metadata": {},
   "outputs": [
    {
     "name": "stdout",
     "output_type": "stream",
     "text": [
      "fib_recursed(34) took 1.369504s to run.\n"
     ]
    },
    {
     "data": {
      "text/plain": [
       "5702887"
      ]
     },
     "execution_count": 11,
     "metadata": {},
     "output_type": "execute_result"
    }
   ],
   "source": [
    "fib_recursed(34)"
   ]
  },
  {
   "cell_type": "code",
   "execution_count": 12,
   "metadata": {},
   "outputs": [
    {
     "name": "stdout",
     "output_type": "stream",
     "text": [
      "fib_recursed(35) took 2.096305s to run.\n"
     ]
    },
    {
     "data": {
      "text/plain": [
       "9227465"
      ]
     },
     "execution_count": 12,
     "metadata": {},
     "output_type": "execute_result"
    }
   ],
   "source": [
    "fib_recursed(35)"
   ]
  },
  {
   "cell_type": "markdown",
   "metadata": {},
   "source": [
    "There's a reason we did not decorate our recursive function directly!"
   ]
  },
  {
   "cell_type": "code",
   "execution_count": 6,
   "metadata": {
    "jupyter": {
     "outputs_hidden": true
    }
   },
   "outputs": [],
   "source": [
    "@timed\n",
    "def fib_recursed_2(n):\n",
    "    if n <=2:\n",
    "        return 1\n",
    "    else:\n",
    "        return fib_recursed_2(n-1) + fib_recursed_2(n-2)"
   ]
  },
  {
   "cell_type": "code",
   "execution_count": 7,
   "metadata": {},
   "outputs": [
    {
     "name": "stdout",
     "output_type": "stream",
     "text": [
      "fib_recursed_2(2) took 0.000000s to run.\n",
      "fib_recursed_2(1) took 0.000001s to run.\n",
      "fib_recursed_2(3) took 0.000095s to run.\n",
      "fib_recursed_2(2) took 0.000000s to run.\n",
      "fib_recursed_2(4) took 0.000213s to run.\n",
      "fib_recursed_2(2) took 0.000000s to run.\n",
      "fib_recursed_2(1) took 0.000000s to run.\n",
      "fib_recursed_2(3) took 0.000199s to run.\n",
      "fib_recursed_2(5) took 0.000523s to run.\n",
      "fib_recursed_2(2) took 0.000000s to run.\n",
      "fib_recursed_2(1) took 0.000000s to run.\n",
      "fib_recursed_2(3) took 0.000062s to run.\n",
      "fib_recursed_2(2) took 0.000000s to run.\n",
      "fib_recursed_2(4) took 0.000113s to run.\n",
      "fib_recursed_2(6) took 0.000702s to run.\n",
      "fib_recursed_2(2) took 0.000000s to run.\n",
      "fib_recursed_2(1) took 0.000000s to run.\n",
      "fib_recursed_2(3) took 0.000057s to run.\n",
      "fib_recursed_2(2) took 0.000000s to run.\n",
      "fib_recursed_2(4) took 0.000115s to run.\n",
      "fib_recursed_2(2) took 0.000000s to run.\n",
      "fib_recursed_2(1) took 0.000000s to run.\n",
      "fib_recursed_2(3) took 0.000074s to run.\n",
      "fib_recursed_2(5) took 0.000276s to run.\n",
      "fib_recursed_2(7) took 0.001030s to run.\n",
      "fib_recursed_2(2) took 0.000000s to run.\n",
      "fib_recursed_2(1) took 0.000000s to run.\n",
      "fib_recursed_2(3) took 0.000046s to run.\n",
      "fib_recursed_2(2) took 0.000000s to run.\n",
      "fib_recursed_2(4) took 0.000087s to run.\n",
      "fib_recursed_2(2) took 0.000000s to run.\n",
      "fib_recursed_2(1) took 0.000000s to run.\n",
      "fib_recursed_2(3) took 0.000063s to run.\n",
      "fib_recursed_2(5) took 0.000264s to run.\n",
      "fib_recursed_2(2) took 0.000000s to run.\n",
      "fib_recursed_2(1) took 0.000000s to run.\n",
      "fib_recursed_2(3) took 0.001065s to run.\n",
      "fib_recursed_2(2) took 0.000001s to run.\n",
      "fib_recursed_2(4) took 0.002003s to run.\n",
      "fib_recursed_2(6) took 0.002309s to run.\n",
      "fib_recursed_2(8) took 0.003651s to run.\n",
      "fib_recursed_2(2) took 0.000000s to run.\n",
      "fib_recursed_2(1) took 0.000001s to run.\n",
      "fib_recursed_2(3) took 0.000744s to run.\n",
      "fib_recursed_2(2) took 0.000000s to run.\n",
      "fib_recursed_2(4) took 0.000791s to run.\n",
      "fib_recursed_2(2) took 0.000000s to run.\n",
      "fib_recursed_2(1) took 0.000000s to run.\n",
      "fib_recursed_2(3) took 0.000064s to run.\n",
      "fib_recursed_2(5) took 0.000905s to run.\n",
      "fib_recursed_2(2) took 0.000000s to run.\n",
      "fib_recursed_2(1) took 0.000000s to run.\n",
      "fib_recursed_2(3) took 0.000047s to run.\n",
      "fib_recursed_2(2) took 0.000000s to run.\n",
      "fib_recursed_2(4) took 0.000094s to run.\n",
      "fib_recursed_2(6) took 0.001048s to run.\n",
      "fib_recursed_2(2) took 0.000000s to run.\n",
      "fib_recursed_2(1) took 0.000000s to run.\n",
      "fib_recursed_2(3) took 0.000179s to run.\n",
      "fib_recursed_2(2) took 0.000000s to run.\n",
      "fib_recursed_2(4) took 0.000237s to run.\n",
      "fib_recursed_2(2) took 0.000000s to run.\n",
      "fib_recursed_2(1) took 0.000000s to run.\n",
      "fib_recursed_2(3) took 0.000045s to run.\n",
      "fib_recursed_2(5) took 0.000325s to run.\n",
      "fib_recursed_2(7) took 0.001413s to run.\n",
      "fib_recursed_2(9) took 0.005147s to run.\n",
      "fib_recursed_2(2) took 0.000000s to run.\n",
      "fib_recursed_2(1) took 0.000000s to run.\n",
      "fib_recursed_2(3) took 0.000045s to run.\n",
      "fib_recursed_2(2) took 0.000000s to run.\n",
      "fib_recursed_2(4) took 0.000093s to run.\n",
      "fib_recursed_2(2) took 0.000000s to run.\n",
      "fib_recursed_2(1) took 0.000000s to run.\n",
      "fib_recursed_2(3) took 0.000057s to run.\n",
      "fib_recursed_2(5) took 0.000864s to run.\n",
      "fib_recursed_2(2) took 0.000000s to run.\n",
      "fib_recursed_2(1) took 0.000000s to run.\n",
      "fib_recursed_2(3) took 0.000035s to run.\n",
      "fib_recursed_2(2) took 0.000001s to run.\n",
      "fib_recursed_2(4) took 0.000870s to run.\n",
      "fib_recursed_2(6) took 0.002247s to run.\n",
      "fib_recursed_2(2) took 0.000000s to run.\n",
      "fib_recursed_2(1) took 0.000000s to run.\n",
      "fib_recursed_2(3) took 0.000066s to run.\n",
      "fib_recursed_2(2) took 0.000000s to run.\n",
      "fib_recursed_2(4) took 0.000108s to run.\n",
      "fib_recursed_2(2) took 0.000000s to run.\n",
      "fib_recursed_2(1) took 0.000000s to run.\n",
      "fib_recursed_2(3) took 0.000867s to run.\n",
      "fib_recursed_2(5) took 0.001059s to run.\n",
      "fib_recursed_2(7) took 0.003381s to run.\n",
      "fib_recursed_2(2) took 0.000000s to run.\n",
      "fib_recursed_2(1) took 0.000000s to run.\n",
      "fib_recursed_2(3) took 0.000023s to run.\n",
      "fib_recursed_2(2) took 0.000000s to run.\n",
      "fib_recursed_2(4) took 0.000234s to run.\n",
      "fib_recursed_2(2) took 0.000000s to run.\n",
      "fib_recursed_2(1) took 0.000000s to run.\n",
      "fib_recursed_2(3) took 0.000033s to run.\n",
      "fib_recursed_2(5) took 0.000610s to run.\n",
      "fib_recursed_2(2) took 0.000000s to run.\n",
      "fib_recursed_2(1) took 0.000000s to run.\n",
      "fib_recursed_2(3) took 0.000022s to run.\n",
      "fib_recursed_2(2) took 0.000001s to run.\n",
      "fib_recursed_2(4) took 0.000466s to run.\n",
      "fib_recursed_2(6) took 0.001111s to run.\n",
      "fib_recursed_2(8) took 0.004533s to run.\n",
      "fib_recursed_2(10) took 0.009729s to run.\n"
     ]
    },
    {
     "data": {
      "text/plain": [
       "55"
      ]
     },
     "execution_count": 7,
     "metadata": {},
     "output_type": "execute_result"
    }
   ],
   "source": [
    "fib_recursed_2(10)"
   ]
  },
  {
   "cell_type": "markdown",
   "metadata": {},
   "source": [
    "Since we are calling the function recursively, we are actually calling the **decorated** function recursively. In this case I wanted the total time to calculate the n-th number, not the time for each recursion.\n",
    "\n",
    "You will notice from the above how inefficient the recursive method is: the same fibonacci numbers are calculated repeatedly! This is why as the value of `n` start increasing beyond 30 we start seeing considerable slow downs."
   ]
  },
  {
   "cell_type": "markdown",
   "metadata": {},
   "source": [
    "#### Using a Loop"
   ]
  },
  {
   "cell_type": "code",
   "execution_count": 13,
   "metadata": {
    "jupyter": {
     "outputs_hidden": true
    }
   },
   "outputs": [],
   "source": [
    "@timed\n",
    "def fib_loop(n):\n",
    "    fib_1 = 1\n",
    "    fib_2 = 1\n",
    "    for i in range(3, n+1):\n",
    "        fib_1, fib_2 = fib_2, fib_1 + fib_2\n",
    "    return fib_2               "
   ]
  },
  {
   "cell_type": "code",
   "execution_count": 14,
   "metadata": {},
   "outputs": [
    {
     "name": "stdout",
     "output_type": "stream",
     "text": [
      "fib_loop(3) took 0.000003s to run.\n"
     ]
    },
    {
     "data": {
      "text/plain": [
       "2"
      ]
     },
     "execution_count": 14,
     "metadata": {},
     "output_type": "execute_result"
    }
   ],
   "source": [
    "fib_loop(3)"
   ]
  },
  {
   "cell_type": "code",
   "execution_count": 14,
   "metadata": {},
   "outputs": [
    {
     "name": "stdout",
     "output_type": "stream",
     "text": [
      "fib_loop(6) took 0.000003s to run.\n"
     ]
    },
    {
     "data": {
      "text/plain": [
       "8"
      ]
     },
     "execution_count": 14,
     "metadata": {},
     "output_type": "execute_result"
    }
   ],
   "source": [
    "fib_loop(6)"
   ]
  },
  {
   "cell_type": "code",
   "execution_count": 15,
   "metadata": {},
   "outputs": [
    {
     "name": "stdout",
     "output_type": "stream",
     "text": [
      "fib_loop(34) took 0.000006s to run.\n"
     ]
    },
    {
     "data": {
      "text/plain": [
       "5702887"
      ]
     },
     "execution_count": 15,
     "metadata": {},
     "output_type": "execute_result"
    }
   ],
   "source": [
    "fib_loop(34)"
   ]
  },
  {
   "cell_type": "code",
   "execution_count": 16,
   "metadata": {},
   "outputs": [
    {
     "name": "stdout",
     "output_type": "stream",
     "text": [
      "fib_loop(35) took 0.000006s to run.\n"
     ]
    },
    {
     "data": {
      "text/plain": [
       "9227465"
      ]
     },
     "execution_count": 16,
     "metadata": {},
     "output_type": "execute_result"
    }
   ],
   "source": [
    "fib_loop(35)"
   ]
  },
  {
   "cell_type": "markdown",
   "metadata": {},
   "source": [
    "As you can see this method is much more efficient!"
   ]
  },
  {
   "cell_type": "code",
   "execution_count": null,
   "metadata": {},
   "outputs": [],
   "source": [
    "for i in range(10):\n",
    "    result =  fib_loop(10000)"
   ]
  },
  {
   "cell_type": "markdown",
   "metadata": {},
   "source": [
    "In general it is better to time the same function call multiple times and generate and average of the run times."
   ]
  },
  {
   "cell_type": "code",
   "execution_count": null,
   "metadata": {},
   "outputs": [],
   "source": []
  }
 ],
 "metadata": {
  "kernelspec": {
   "display_name": "Python 3 (ipykernel)",
   "language": "python",
   "name": "python3"
  },
  "language_info": {
   "codemirror_mode": {
    "name": "ipython",
    "version": 3
   },
   "file_extension": ".py",
   "mimetype": "text/x-python",
   "name": "python",
   "nbconvert_exporter": "python",
   "pygments_lexer": "ipython3",
   "version": "3.10.6"
  }
 },
 "nbformat": 4,
 "nbformat_minor": 4
}
