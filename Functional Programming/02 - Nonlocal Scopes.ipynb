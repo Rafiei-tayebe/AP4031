{
 "cells": [
  {
   "cell_type": "markdown",
   "metadata": {},
   "source": [
    "### Nonlocal Scopes"
   ]
  },
  {
   "cell_type": "markdown",
   "metadata": {},
   "source": [
    "Functions defined inside anther function can reference variables from that enclosing scope, just like functions can reference variables from the global scope."
   ]
  },
  {
   "cell_type": "code",
   "execution_count": 1,
   "metadata": {
    "tags": []
   },
   "outputs": [],
   "source": [
    "def outer_func():\n",
    "    x = 'hello'  # it is local to outer_func\n",
    "    \n",
    "    def inner_func():  # it will be created when outer_func is called\n",
    "        print(x)  #  no x is defined inside inner_func so python looks for it in outer_func\n",
    "    \n",
    "    inner_func()  # call inner_func inside outer func"
   ]
  },
  {
   "cell_type": "code",
   "execution_count": null,
   "metadata": {},
   "outputs": [],
   "source": [
    "def outer_func():\n",
    "    x = 'hello'  # it is local to outer_func\n",
    "    \n",
    "    def inner_func():  # it will be created when outer_func is called\n",
    "        return x+2  #  no x is defined inside inner_func so python looks for it in outer_func\n",
    "    \n",
    "    inner_func()"
   ]
  },
  {
   "cell_type": "code",
   "execution_count": 2,
   "metadata": {},
   "outputs": [
    {
     "ename": "NameError",
     "evalue": "name 'inner_func' is not defined",
     "output_type": "error",
     "traceback": [
      "\u001b[1;31m---------------------------------------------------------------------------\u001b[0m",
      "\u001b[1;31mNameError\u001b[0m                                 Traceback (most recent call last)",
      "Input \u001b[1;32mIn [2]\u001b[0m, in \u001b[0;36m<cell line: 1>\u001b[1;34m()\u001b[0m\n\u001b[1;32m----> 1\u001b[0m \u001b[43minner_func\u001b[49m()\n",
      "\u001b[1;31mNameError\u001b[0m: name 'inner_func' is not defined"
     ]
    }
   ],
   "source": [
    "inner_func()"
   ]
  },
  {
   "cell_type": "code",
   "execution_count": 3,
   "metadata": {},
   "outputs": [
    {
     "name": "stdout",
     "output_type": "stream",
     "text": [
      "hello\n"
     ]
    }
   ],
   "source": [
    "outer_func() \n",
    "# when we call outer_func the following will happen:\n",
    "# 1. x = 'hello' (assignment)\n",
    "# 2. inner_func will be created (not called)\n",
    "# at the creating time python realises there is no local x, so this x is nonlocal.\n",
    "# 3. then inner_func is called, at that time python will look up for the value of x in the closest scope"
   ]
  },
  {
   "cell_type": "markdown",
   "metadata": {},
   "source": [
    "But if we **assign** a value to a variable, it is considered part of the local scope, and potentially **masks** enclsogin scope variable names:"
   ]
  },
  {
   "cell_type": "code",
   "execution_count": 6,
   "metadata": {
    "tags": []
   },
   "outputs": [],
   "source": [
    "def outer():\n",
    "    x = 'hello' # this x is local to outer\n",
    "    \n",
    "    def inner():\n",
    "        #nonlocal x\n",
    "        x = 'python' # this x is local to inner\n",
    "        print('x value inside inner', x)\n",
    "    inner()  \n",
    "    print('x value outside inner', x)"
   ]
  },
  {
   "cell_type": "code",
   "execution_count": 7,
   "metadata": {},
   "outputs": [
    {
     "name": "stdout",
     "output_type": "stream",
     "text": [
      "x value inside inner python\n",
      "x value outside inner python\n"
     ]
    }
   ],
   "source": [
    "outer()"
   ]
  },
  {
   "cell_type": "markdown",
   "metadata": {},
   "source": [
    "As you can see, **x** in **outer** was not changed."
   ]
  },
  {
   "cell_type": "markdown",
   "metadata": {},
   "source": [
    "To achieve this, we can use the **nonlocal** keyword:"
   ]
  },
  {
   "cell_type": "code",
   "execution_count": 8,
   "metadata": {
    "tags": []
   },
   "outputs": [
    {
     "name": "stdout",
     "output_type": "stream",
     "text": [
      "z\n"
     ]
    }
   ],
   "source": [
    "x = 'z'\n",
    "def outer():\n",
    "    x = 'hello'\n",
    "    def inner():\n",
    "        nonlocal x\n",
    "        x = 'python'\n",
    "        print('inner:', x)\n",
    "        \n",
    "    print('outer(before):', x)\n",
    "    inner()\n",
    "    print('outer(after):', x)\n",
    "print(x)"
   ]
  },
  {
   "cell_type": "code",
   "execution_count": 9,
   "metadata": {},
   "outputs": [
    {
     "name": "stdout",
     "output_type": "stream",
     "text": [
      "outer(before): hello\n",
      "inner: python\n",
      "outer(after): python\n"
     ]
    }
   ],
   "source": [
    "outer()"
   ]
  },
  {
   "cell_type": "code",
   "execution_count": null,
   "metadata": {
    "tags": []
   },
   "outputs": [],
   "source": [
    "def outer():\n",
    "    x = 'hello'\n",
    "    def inner1():\n",
    "        x = 'python'\n",
    "        def inner2():\n",
    "            nonlocal x\n",
    "            x = 'java'\n",
    "        print('inner1 (before):', x)\n",
    "        inner2()\n",
    "        print('inner1 (after):', x)\n",
    "    inner1()\n",
    "    print('outer:', x)"
   ]
  },
  {
   "cell_type": "code",
   "execution_count": null,
   "metadata": {},
   "outputs": [],
   "source": [
    "outer()"
   ]
  },
  {
   "cell_type": "markdown",
   "metadata": {},
   "source": [
    "What happened here, is that `x` in `inner1` **masked** `x` in `outer`. But `inner2` indicated to Python that `x` was nonlocal, so the first local variable up in the enclosing scope chain Python found was the one in `inner1`, hence `x` in `inner2` is actually referencing `x` that is local to `inner1`"
   ]
  },
  {
   "cell_type": "markdown",
   "metadata": {},
   "source": [
    "We can change this behavior by making the variable `x` in `inner` nonlocal as well:"
   ]
  },
  {
   "cell_type": "code",
   "execution_count": 7,
   "metadata": {
    "tags": []
   },
   "outputs": [],
   "source": [
    "def outer():\n",
    "    x = 'hello'\n",
    "    def inner1():\n",
    "        nonlocal x\n",
    "        x = 'python'\n",
    "        def inner2():\n",
    "            nonlocal x\n",
    "            x = 'java'\n",
    "        print('inner1 (before):', x)\n",
    "        inner2()\n",
    "        print('inner1 (after):', x)\n",
    "    inner1()\n",
    "    print('outer:', x)"
   ]
  },
  {
   "cell_type": "code",
   "execution_count": 8,
   "metadata": {},
   "outputs": [
    {
     "name": "stdout",
     "output_type": "stream",
     "text": [
      "inner1 (before): python\n",
      "inner1 (after): java\n",
      "outer: java\n"
     ]
    }
   ],
   "source": [
    "outer()"
   ]
  },
  {
   "cell_type": "code",
   "execution_count": 9,
   "metadata": {
    "tags": []
   },
   "outputs": [],
   "source": [
    "x = 100 # x_global = 100\n",
    "def outer():\n",
    "    x = 'python'  # masks global x # x_outer = python\n",
    "    def inner1():\n",
    "        nonlocal x  # refers to x in outer\n",
    "        x = 'java' # changed x in outer scope # x_outer = java\n",
    "        def inner2():\n",
    "            global x  # refers to x in global scope # x_global = hello\n",
    "            x = 'hello'\n",
    "        print('inner1 (before):', x)\n",
    "        inner2()\n",
    "        print('inner1 (after):', x)\n",
    "    inner1()\n",
    "    print('outer', x)    "
   ]
  },
  {
   "cell_type": "code",
   "execution_count": 10,
   "metadata": {},
   "outputs": [
    {
     "name": "stdout",
     "output_type": "stream",
     "text": [
      "inner1 (before): java\n",
      "inner1 (after): java\n",
      "outer java\n",
      "hello\n"
     ]
    }
   ],
   "source": [
    "outer()\n",
    "print(x)"
   ]
  },
  {
   "cell_type": "markdown",
   "metadata": {},
   "source": [
    "But this will not work. In `inner` Python is looking for a local variable called `x`. `outer` has a label called `x`, but it is a global variable, not a local one - hence Python does not find a local variable in the scope chain."
   ]
  },
  {
   "cell_type": "code",
   "execution_count": null,
   "metadata": {},
   "outputs": [],
   "source": [
    "x = 100\n",
    "def outer():\n",
    "    global x\n",
    "    x = 'python'\n",
    "    \n",
    "    def inner():\n",
    "        nonlocal x\n",
    "        x = 'java'\n",
    "    inner()"
   ]
  },
  {
   "cell_type": "code",
   "execution_count": 11,
   "metadata": {
    "tags": []
   },
   "outputs": [],
   "source": [
    "x = 100\n",
    "def outer():\n",
    "    global x\n",
    "    x = 'python'\n",
    "    def inner():\n",
    "        global x  # no chain is needed, we can refer to the global x\n",
    "        x = 'java'\n",
    "    inner()"
   ]
  },
  {
   "cell_type": "code",
   "execution_count": 12,
   "metadata": {},
   "outputs": [
    {
     "name": "stdout",
     "output_type": "stream",
     "text": [
      "100\n",
      "java\n"
     ]
    }
   ],
   "source": [
    "print(x)\n",
    "outer()\n",
    "print(x)"
   ]
  },
  {
   "cell_type": "code",
   "execution_count": null,
   "metadata": {},
   "outputs": [],
   "source": []
  }
 ],
 "metadata": {
  "kernelspec": {
   "display_name": "Python 3 (ipykernel)",
   "language": "python",
   "name": "python3"
  },
  "language_info": {
   "codemirror_mode": {
    "name": "ipython",
    "version": 3
   },
   "file_extension": ".py",
   "mimetype": "text/x-python",
   "name": "python",
   "nbconvert_exporter": "python",
   "pygments_lexer": "ipython3",
   "version": "3.10.6"
  }
 },
 "nbformat": 4,
 "nbformat_minor": 4
}
