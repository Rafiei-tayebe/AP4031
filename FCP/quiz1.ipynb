{
 "cells": [
  {
   "cell_type": "code",
   "execution_count": 15,
   "id": "8e0fdc53",
   "metadata": {},
   "outputs": [
    {
     "name": "stdout",
     "output_type": "stream",
     "text": [
      "FindName ali\n",
      "{'username': 'ali', 'gender': 'male', 'age': '30'}\n",
      "{'username': 'alireza', 'gender': 'male', 'age': '20'}\n",
      "DeleteAccount al0002\n",
      "EXIT\n"
     ]
    }
   ],
   "source": [
    "# Quiz 1 (FCP)\n",
    "network = dict()\n",
    "while True:\n",
    "    inp = input()\n",
    "    if inp == 'EXIT':\n",
    "        break\n",
    "    if inp.startswith('SignUp'):\n",
    "        username, gender, age, id_ = inp.split()[1:]\n",
    "        #network[id_] = [username, gender, age]\n",
    "        if id_ in network.keys():\n",
    "            print('Invalid ID')\n",
    "            continue\n",
    "        if 5 <= len(id_) <= 10 and id_.isalnum():\n",
    "            network[id_] = {'username': username, \n",
    "                            'gender': gender, \n",
    "                            'age':age,\n",
    "                           'following' : [],\n",
    "                           'follower' : []}\n",
    "        else:\n",
    "            print('Invalid ID')\n",
    "    elif inp.startswith('DeleteAccount'):\n",
    "        id_ = inp.split()[1]\n",
    "        if id_ in network.keys():\n",
    "            del network[id_]\n",
    "\n",
    "    elif inp.startswith('FindName'):\n",
    "        name = inp.split()[1]\n",
    "        result = []\n",
    "        for id_ in network:\n",
    "            if network[id_]['username'].startswith(name):\n",
    "                result.append(network[id_]['username'])\n",
    "        result.sort()\n",
    "        for name in result:\n",
    "            for id_ in network:\n",
    "                if network[id_]['username'] == name:\n",
    "                    print(id_, network[id_])\n",
    "    elif inp.startswith('Follow'):\n",
    "        id1, *ids = inp.split()[1:]\n",
    "        network[id1]['following'] = ids\n",
    "                "
   ]
  },
  {
   "cell_type": "code",
   "execution_count": 16,
   "id": "7f6631d0",
   "metadata": {},
   "outputs": [
    {
     "name": "stdout",
     "output_type": "stream",
     "text": [
      "{'alz20': {'username': 'alireza', 'gender': 'male', 'age': '20'}}\n"
     ]
    }
   ],
   "source": [
    "network['alz20']['followings'] = []"
   ]
  },
  {
   "cell_type": "code",
   "execution_count": 11,
   "id": "c63f290f",
   "metadata": {},
   "outputs": [
    {
     "name": "stdout",
     "output_type": "stream",
     "text": [
      "30\n"
     ]
    }
   ],
   "source": [
    "print(network['raf91']['age'])"
   ]
  },
  {
   "cell_type": "code",
   "execution_count": 3,
   "id": "d06e96f6",
   "metadata": {},
   "outputs": [
    {
     "data": {
      "text/plain": [
       "['SignUp', 'username', 'gender', 'age', 'id']"
      ]
     },
     "execution_count": 3,
     "metadata": {},
     "output_type": "execute_result"
    }
   ],
   "source": [
    "'SignUp username gender age id'.split()"
   ]
  },
  {
   "cell_type": "code",
   "execution_count": 5,
   "id": "878e0ef0",
   "metadata": {},
   "outputs": [
    {
     "name": "stdout",
     "output_type": "stream",
     "text": [
      "{'a': {'1': 1, '2': 2}, 'b': 2}\n"
     ]
    }
   ],
   "source": [
    "x = dict()\n",
    "x['a'] = {'1': 1, '2': 2}\n",
    "x['b'] = 2\n",
    "print(x)"
   ]
  },
  {
   "cell_type": "code",
   "execution_count": 7,
   "id": "4fefdde4",
   "metadata": {},
   "outputs": [
    {
     "name": "stdout",
     "output_type": "stream",
     "text": [
      "2\n"
     ]
    }
   ],
   "source": [
    "print(x['a']['2'])"
   ]
  },
  {
   "cell_type": "code",
   "execution_count": 19,
   "id": "941a33aa",
   "metadata": {},
   "outputs": [],
   "source": [
    "i, id1, *ids ='Follow al0002 x11111 x2222 x3333'.split()"
   ]
  },
  {
   "cell_type": "code",
   "execution_count": 20,
   "id": "a32e0040",
   "metadata": {},
   "outputs": [
    {
     "data": {
      "text/plain": [
       "['x11111', 'x2222', 'x3333']"
      ]
     },
     "execution_count": 20,
     "metadata": {},
     "output_type": "execute_result"
    }
   ],
   "source": [
    "ids"
   ]
  },
  {
   "cell_type": "code",
   "execution_count": null,
   "id": "2a696769",
   "metadata": {},
   "outputs": [],
   "source": []
  }
 ],
 "metadata": {
  "kernelspec": {
   "display_name": "Python 3 (ipykernel)",
   "language": "python",
   "name": "python3"
  },
  "language_info": {
   "codemirror_mode": {
    "name": "ipython",
    "version": 3
   },
   "file_extension": ".py",
   "mimetype": "text/x-python",
   "name": "python",
   "nbconvert_exporter": "python",
   "pygments_lexer": "ipython3",
   "version": "3.10.6"
  }
 },
 "nbformat": 4,
 "nbformat_minor": 5
}
