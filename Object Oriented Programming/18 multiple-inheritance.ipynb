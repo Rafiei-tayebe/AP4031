{
 "cells": [
  {
   "cell_type": "code",
   "execution_count": null,
   "metadata": {},
   "outputs": [],
   "source": [
    "# OOP:\n",
    "1. Encapsulation\n",
    "2. Inheritance (single Inher. | Multiple Inher.)\n",
    "3. Polymorphism (operation overloading, method overriding, duck typing)\n",
    "4. Abstract based classes\n"
   ]
  },
  {
   "cell_type": "markdown",
   "metadata": {},
   "source": [
    "# Multiple Inheritance"
   ]
  },
  {
   "cell_type": "code",
   "execution_count": 1,
   "metadata": {},
   "outputs": [
    {
     "name": "stdout",
     "output_type": "stream",
     "text": [
      "This feature belongs to child.\n",
      "This feature belongs to father.\n"
     ]
    }
   ],
   "source": [
    "# Single Inheritance\n",
    "# A -> B\n",
    "# Example\n",
    "# object -> Father -> Child\n",
    "class Father:\n",
    "    def f_feature(self):\n",
    "        print('This feature belongs to father.')\n",
    "\n",
    "\n",
    "class Child(Father):\n",
    "    def c_feature(self):\n",
    "        print('This feature belongs to child.')\n",
    "\n",
    "\n",
    "child_instance = Child()\n",
    "child_instance.c_feature()\n",
    "child_instance.f_feature()"
   ]
  },
  {
   "cell_type": "code",
   "execution_count": 14,
   "metadata": {},
   "outputs": [
    {
     "name": "stdout",
     "output_type": "stream",
     "text": [
      "__init__ for Mother class\n",
      "__init__ for Son class\n",
      "Father: father_attr_for_son\n",
      "Mother: \n",
      "Father: Good Moral\n",
      "Mother: Kind\n"
     ]
    }
   ],
   "source": [
    "# Multiple Inheritance\n",
    "# A -> C\n",
    "# B -> C\n",
    "# Example\n",
    "class Mother:\n",
    "    mother_attr = '' \n",
    "    def __init__ (self):\n",
    "        self.name = \"mother\"\n",
    "        print('__init__ for Mother class')\n",
    "    def mother(self):\n",
    "        print(self.mother_attr)\n",
    "\n",
    "\n",
    "class Father:\n",
    "    father_attr = ''\n",
    "    def __init__ (self):\n",
    "        self.name = \"father\"\n",
    "        print('__init__ for Father class')\n",
    "    def father(self):\n",
    "        print(self.father_attr)\n",
    "\n",
    "class s(Mother, Father):\n",
    "    pass\n",
    "\n",
    "class Son(Mother, Father):\n",
    "    father_attr = 'father_attr_for_son'\n",
    "    def __init__ (self):\n",
    "        super().__init__()\n",
    "        #Mother.__init__(self)\n",
    "        #Father.__init__(self)\n",
    "        print('__init__ for Son class')\n",
    "        \n",
    "    def inherited_attrs(self):\n",
    "        print('Father:', self.father_attr)\n",
    "        print('Mother:', self.mother_attr)\n",
    "\n",
    "\n",
    "s1 = Son()\n",
    "s1.inherited_attrs()\n",
    "s1.father_attr = 'Good Moral'\n",
    "s1.mother_attr = 'Kind'\n",
    "s1.inherited_attrs()"
   ]
  },
  {
   "cell_type": "code",
   "execution_count": 13,
   "metadata": {},
   "outputs": [
    {
     "data": {
      "text/plain": [
       "'mother'"
      ]
     },
     "execution_count": 13,
     "metadata": {},
     "output_type": "execute_result"
    }
   ],
   "source": [
    "s1.name"
   ]
  },
  {
   "cell_type": "code",
   "execution_count": null,
   "metadata": {},
   "outputs": [],
   "source": []
  },
  {
   "cell_type": "code",
   "execution_count": 15,
   "metadata": {},
   "outputs": [],
   "source": [
    "class A:\n",
    "    def __init__(self, fname):\n",
    "        self.fname = fname\n",
    "        \n",
    "class B:\n",
    "    def __init__(self, lname):\n",
    "        self.lname = lname\n",
    "        \n",
    "class C(A, B):\n",
    "    def __init__(self, fname, lname, id_):\n",
    "        #A.__init__(self, fname)\n",
    "        super().__init__(fname)\n",
    "        B.__init__(self, lname)\n",
    "        self.id_ = id_"
   ]
  },
  {
   "cell_type": "code",
   "execution_count": 16,
   "metadata": {},
   "outputs": [],
   "source": [
    "c = C('x', 'y', 'z')"
   ]
  },
  {
   "cell_type": "code",
   "execution_count": 17,
   "metadata": {},
   "outputs": [
    {
     "data": {
      "text/plain": [
       "'x'"
      ]
     },
     "execution_count": 17,
     "metadata": {},
     "output_type": "execute_result"
    }
   ],
   "source": [
    "c.fname"
   ]
  },
  {
   "cell_type": "code",
   "execution_count": 18,
   "metadata": {},
   "outputs": [
    {
     "data": {
      "text/plain": [
       "[__main__.Son, __main__.Mother, __main__.Father, object]"
      ]
     },
     "execution_count": 18,
     "metadata": {},
     "output_type": "execute_result"
    }
   ],
   "source": [
    "Son.mro()"
   ]
  },
  {
   "cell_type": "markdown",
   "metadata": {},
   "source": [
    "## Method Resolution Order\n",
    "MRO is a concept used in inheritance. It is the order in which a method is searched for in a classes hierarchy and is especially useful in Python because Python supports multiple inheritance."
   ]
  },
  {
   "cell_type": "code",
   "execution_count": 19,
   "metadata": {},
   "outputs": [
    {
     "name": "stdout",
     "output_type": "stream",
     "text": [
      "Help on class Son in module __main__:\n",
      "\n",
      "class Son(Mother, Father)\n",
      " |  Method resolution order:\n",
      " |      Son\n",
      " |      Mother\n",
      " |      Father\n",
      " |      builtins.object\n",
      " |  \n",
      " |  Methods defined here:\n",
      " |  \n",
      " |  __init__(self)\n",
      " |      Initialize self.  See help(type(self)) for accurate signature.\n",
      " |  \n",
      " |  inherited_attrs(self)\n",
      " |  \n",
      " |  ----------------------------------------------------------------------\n",
      " |  Data and other attributes defined here:\n",
      " |  \n",
      " |  father_attr = 'father_attr_for_son'\n",
      " |  \n",
      " |  ----------------------------------------------------------------------\n",
      " |  Methods inherited from Mother:\n",
      " |  \n",
      " |  mother(self)\n",
      " |  \n",
      " |  ----------------------------------------------------------------------\n",
      " |  Data descriptors inherited from Mother:\n",
      " |  \n",
      " |  __dict__\n",
      " |      dictionary for instance variables (if defined)\n",
      " |  \n",
      " |  __weakref__\n",
      " |      list of weak references to the object (if defined)\n",
      " |  \n",
      " |  ----------------------------------------------------------------------\n",
      " |  Data and other attributes inherited from Mother:\n",
      " |  \n",
      " |  mother_attr = ''\n",
      " |  \n",
      " |  ----------------------------------------------------------------------\n",
      " |  Methods inherited from Father:\n",
      " |  \n",
      " |  father(self)\n",
      "\n"
     ]
    }
   ],
   "source": [
    "help(Son)"
   ]
  },
  {
   "cell_type": "code",
   "execution_count": 10,
   "metadata": {},
   "outputs": [
    {
     "name": "stdout",
     "output_type": "stream",
     "text": [
      "__init__ for Mother class\n",
      "__init__ for Mother class\n",
      "__init__ for Father class\n",
      "__init__ for Son class\n"
     ]
    }
   ],
   "source": [
    "s2 = Son()"
   ]
  },
  {
   "cell_type": "code",
   "execution_count": 13,
   "metadata": {},
   "outputs": [],
   "source": [
    "Father.father_attr = 'x'"
   ]
  },
  {
   "cell_type": "code",
   "execution_count": 15,
   "metadata": {},
   "outputs": [
    {
     "data": {
      "text/plain": [
       "'Good Moral'"
      ]
     },
     "execution_count": 15,
     "metadata": {},
     "output_type": "execute_result"
    }
   ],
   "source": [
    "s1.father_attr"
   ]
  },
  {
   "cell_type": "code",
   "execution_count": 14,
   "metadata": {},
   "outputs": [
    {
     "data": {
      "text/plain": [
       "'x'"
      ]
     },
     "execution_count": 14,
     "metadata": {},
     "output_type": "execute_result"
    }
   ],
   "source": [
    "s2.father_attr"
   ]
  },
  {
   "cell_type": "code",
   "execution_count": null,
   "metadata": {},
   "outputs": [],
   "source": [
    "# Methods"
   ]
  },
  {
   "cell_type": "code",
   "execution_count": 16,
   "metadata": {},
   "outputs": [],
   "source": [
    "class MyClass:\n",
    "    class_attribute = 'class attribute'\n",
    "    \n",
    "    def __init__(self):\n",
    "        print('__init__ magic method called')\n",
    "        self.instance_attribute = 'instance attribute'\n",
    "        \n",
    "    def __str__(self):\n",
    "        return '__str__ magic method called'\n",
    "    \n",
    "    def method(self):\n",
    "        print('instance method called', self)\n",
    "\n",
    "    @classmethod\n",
    "    def classmethod(cls):\n",
    "        print('class method called', cls)\n",
    "\n",
    "    @staticmethod\n",
    "    def staticmethod():\n",
    "        print('static method called')"
   ]
  },
  {
   "cell_type": "code",
   "execution_count": 17,
   "metadata": {},
   "outputs": [
    {
     "name": "stdout",
     "output_type": "stream",
     "text": [
      "__init__ magic method called\n"
     ]
    }
   ],
   "source": [
    "c = MyClass()"
   ]
  },
  {
   "cell_type": "code",
   "execution_count": 18,
   "metadata": {},
   "outputs": [
    {
     "name": "stdout",
     "output_type": "stream",
     "text": [
      "instance method called __str__ magic method called\n"
     ]
    }
   ],
   "source": [
    "c.method()"
   ]
  },
  {
   "cell_type": "code",
   "execution_count": 19,
   "metadata": {},
   "outputs": [
    {
     "name": "stdout",
     "output_type": "stream",
     "text": [
      "class method called <class '__main__.MyClass'>\n"
     ]
    }
   ],
   "source": [
    "c.classmethod()"
   ]
  },
  {
   "cell_type": "code",
   "execution_count": 22,
   "metadata": {},
   "outputs": [
    {
     "name": "stdout",
     "output_type": "stream",
     "text": [
      "son __init__\n",
      "father __init__\n",
      "GrandFather: Good Moral\n",
      "Father: Kind\n"
     ]
    }
   ],
   "source": [
    "# Multi-level Inheritance\n",
    "# A -> B -> C\n",
    "\n",
    "class GrandFather:\n",
    "    grandfather_attr = ''\n",
    "    def __init__(self):\n",
    "        print('__grandfather __init__')\n",
    "    def grandfather(self):\n",
    "        print(self.grandfather_attr)\n",
    "\n",
    "\n",
    "class Father(GrandFather):\n",
    "    father_attr = ''\n",
    "    def __init__(self):\n",
    "        print('father __init__')\n",
    "    def father(self):\n",
    "        print(self.father_attr)\n",
    "\n",
    "\n",
    "class Son(Father, Mother):\n",
    "    def __init__(self):\n",
    "        print('son __init__')\n",
    "        super().__init__()\n",
    "    def parent(self):\n",
    "        print('GrandFather:', self.grandfather_attr)\n",
    "        print('Father:', self.father_attr)\n",
    "\n",
    "\n",
    "s1 = Son()\n",
    "s1.grandfather_attr = 'Good Moral'\n",
    "s1.father_attr = 'Kind'\n",
    "s1.parent()"
   ]
  },
  {
   "cell_type": "code",
   "execution_count": 23,
   "metadata": {},
   "outputs": [
    {
     "data": {
      "text/plain": [
       "[__main__.Son, __main__.Father, __main__.GrandFather, __main__.Mother, object]"
      ]
     },
     "execution_count": 23,
     "metadata": {},
     "output_type": "execute_result"
    }
   ],
   "source": [
    "Son.mro()"
   ]
  },
  {
   "cell_type": "code",
   "execution_count": null,
   "metadata": {},
   "outputs": [],
   "source": [
    "# Hierarchical Inheritance\n",
    "# A -> B\n",
    "# A -> C\n",
    "# A -> D\n",
    "\n",
    "class Father:\n",
    "    def first_attr(self):\n",
    "        print('I hava a good moral')\n",
    "    def second_attr(self):\n",
    "        print('I hava a good moral')\n",
    "class Child1(Father):\n",
    "    def good_moral(self):\n",
    "        Father.first_attr(self)\n",
    "\n",
    "class Child2(Father):\n",
    "    def kindly_man(self):\n",
    "        Father.second_attr(self)"
   ]
  },
  {
   "cell_type": "code",
   "execution_count": 24,
   "metadata": {},
   "outputs": [
    {
     "name": "stdout",
     "output_type": "stream",
     "text": [
      "we all reach school at 8 A.M.\n",
      "I do my mathematic homework.\n",
      "I do my chemistry homework\n",
      "I do my physics homework\n"
     ]
    }
   ],
   "source": [
    "# Hybrid Inheritance\n",
    "# A -> B\n",
    "# A -> C\n",
    "# B -> D\n",
    "# C -> D\n",
    "class School1:\n",
    "    def func1(self):\n",
    "        print('we all reach school at 8 A.M.')\n",
    "        \n",
    "class School2:\n",
    "    def func1(self):\n",
    "        print('we all reach school at 8 A.M.')\n",
    "\n",
    "class Student1(School1):\n",
    "    def func2(self):\n",
    "        print('I do my mathematic homework.')\n",
    "\n",
    "class Student2(School2):\n",
    "    def func3(self):\n",
    "        print('I do my chemistry homework')\n",
    "\n",
    "class Student3(Student1, Student2):\n",
    "    def func4(self):\n",
    "        print('I do my physics homework')\n",
    "\n",
    "s = Student3()\n",
    "s.func1()\n",
    "s.func2()\n",
    "s.func3()\n",
    "s.func4()\n"
   ]
  },
  {
   "cell_type": "code",
   "execution_count": 25,
   "metadata": {},
   "outputs": [
    {
     "data": {
      "text/plain": [
       "[__main__.Student3,\n",
       " __main__.Student1,\n",
       " __main__.School1,\n",
       " __main__.Student2,\n",
       " __main__.School2,\n",
       " object]"
      ]
     },
     "execution_count": 25,
     "metadata": {},
     "output_type": "execute_result"
    }
   ],
   "source": [
    "Student3.mro()"
   ]
  },
  {
   "cell_type": "code",
   "execution_count": 14,
   "metadata": {},
   "outputs": [
    {
     "name": "stdout",
     "output_type": "stream",
     "text": [
      "Help on class Student3 in module __main__:\n",
      "\n",
      "class Student3(Student1, Student2)\n",
      " |  Method resolution order:\n",
      " |      Student3\n",
      " |      Student1\n",
      " |      School1\n",
      " |      Student2\n",
      " |      School2\n",
      " |      builtins.object\n",
      " |  \n",
      " |  Methods defined here:\n",
      " |  \n",
      " |  func4(self)\n",
      " |  \n",
      " |  ----------------------------------------------------------------------\n",
      " |  Methods inherited from Student1:\n",
      " |  \n",
      " |  func2(self)\n",
      " |  \n",
      " |  ----------------------------------------------------------------------\n",
      " |  Methods inherited from School1:\n",
      " |  \n",
      " |  func1(self)\n",
      " |  \n",
      " |  ----------------------------------------------------------------------\n",
      " |  Data descriptors inherited from School1:\n",
      " |  \n",
      " |  __dict__\n",
      " |      dictionary for instance variables (if defined)\n",
      " |  \n",
      " |  __weakref__\n",
      " |      list of weak references to the object (if defined)\n",
      " |  \n",
      " |  ----------------------------------------------------------------------\n",
      " |  Methods inherited from Student2:\n",
      " |  \n",
      " |  func3(self)\n",
      "\n"
     ]
    }
   ],
   "source": [
    "help(Student3)"
   ]
  },
  {
   "cell_type": "code",
   "execution_count": null,
   "metadata": {},
   "outputs": [],
   "source": []
  },
  {
   "cell_type": "code",
   "execution_count": 2,
   "metadata": {},
   "outputs": [
    {
     "name": "stdout",
     "output_type": "stream",
     "text": [
      "class A\n",
      "[<class '__main__.C'>, <class '__main__.A'>, <class '__main__.B'>, <class 'object'>]\n",
      "Help on class C in module __main__:\n",
      "\n",
      "class C(A, B)\n",
      " |  Method resolution order:\n",
      " |      C\n",
      " |      A\n",
      " |      B\n",
      " |      builtins.object\n",
      " |  \n",
      " |  Methods defined here:\n",
      " |  \n",
      " |  function1(self)\n",
      " |  \n",
      " |  ----------------------------------------------------------------------\n",
      " |  Methods inherited from A:\n",
      " |  \n",
      " |  function(self)\n",
      " |  \n",
      " |  ----------------------------------------------------------------------\n",
      " |  Data descriptors inherited from A:\n",
      " |  \n",
      " |  __dict__\n",
      " |      dictionary for instance variables (if defined)\n",
      " |  \n",
      " |  __weakref__\n",
      " |      list of weak references to the object (if defined)\n",
      "\n"
     ]
    }
   ],
   "source": [
    "# order of parent classes\n",
    "class A:\n",
    "    def function(self):\n",
    "        print('class A')\n",
    "\n",
    "class B:\n",
    "    def function(self):\n",
    "        print('class B')\n",
    "\n",
    "class C(A, B):\n",
    "    def function1(self):\n",
    "        print('class C')\n",
    "\n",
    "obj = C()\n",
    "obj.function()\n",
    "print(C.mro())\n",
    "help(C)\n"
   ]
  },
  {
   "cell_type": "code",
   "execution_count": null,
   "metadata": {},
   "outputs": [],
   "source": [
    "import datetime\n",
    "\n",
    "\n",
    "class Employee:\n",
    "    pay_rising = 0.1  # class variable\n",
    "\n",
    "    def __init__(self, first, last, pay):  # initializer method [a magic method]\n",
    "        self.first = first\n",
    "        self.last = last\n",
    "        self.pay = pay\n",
    "        self.mail = f'{first}.{last}@company.com'\n",
    "\n",
    "    def fullname(self):  # regular method\n",
    "        return f'{self.first} {self.last}'\n",
    "\n",
    "    def pay_increase1(self):\n",
    "        # self.pay += int(self.pay * 0.1)\n",
    "        self.pay += int(self.pay * self.pay_rising)\n",
    "        return self.pay\n",
    "\n",
    "    def pay_increase2(self):\n",
    "        self.pay += int(self.pay * Employee.pay_rising)\n",
    "        return self.pay\n",
    "\n",
    "    @classmethod\n",
    "    def set_raise_amount(cls, amount):\n",
    "        cls.pay_rising = amount\n",
    "\n",
    "    @classmethod\n",
    "    def from_str_emp(cls, emp_str):\n",
    "        return cls(*emp_str.split('-'))\n",
    "        # return Employee(*emp_str.split('-'))\n",
    "\n",
    "    @staticmethod\n",
    "    def is_workday(day):\n",
    "        if day.weekday() in [3, 4]:\n",
    "            return False\n",
    "        return True\n",
    "\n",
    "\n",
    "class Developer(Employee):\n",
    "    pay_rising = 0.2\n",
    "    def __init__(self, first, last, pay, prog_lang):\n",
    "        Employee.__init__(self, first, last, pay)\n",
    "        self.prog_lang = prog_lang\n",
    "\n",
    "class Manager(Employee):\n",
    "    def __init__(self, first, last, pay, employees = None):\n",
    "        Employee.__init__(self, first, last, pay)\n",
    "        if employees == None:\n",
    "            self.employees = []\n",
    "        else:\n",
    "            self.employees = employees\n",
    "\n",
    "    def add_emps(self, emp):\n",
    "        if emp not in self.employees:\n",
    "            self.employees.append(emp)\n",
    "\n",
    "    def remove_emp(self, emp):\n",
    "        if emp in self.employees:\n",
    "            self.employees.remove(emp)\n",
    "\n",
    "    def print_emps(self):\n",
    "        for emp in self.employees:\n",
    "            print('--', emp.fullname())\n",
    "\n",
    "\n",
    "# initializer method call (magic method)\n",
    "dev1 = Developer('Tayebe', 'Rafiei', 2500, 'Python')\n",
    "print(dev1.mail)\n",
    "\n",
    "mgr_1 = Manager('Reza', 'Irani', 7000, [dev1])\n",
    "print(mgr_1.mail)\n",
    "mgr_1.print_emps()\n",
    "\n",
    "print(isinstance(dev1, Employee))\n",
    "print(issubclass(Manager, Employee))\n",
    "print(help(Developer))"
   ]
  }
 ],
 "metadata": {
  "kernelspec": {
   "display_name": "Python 3 (ipykernel)",
   "language": "python",
   "name": "python3"
  },
  "language_info": {
   "codemirror_mode": {
    "name": "ipython",
    "version": 3
   },
   "file_extension": ".py",
   "mimetype": "text/x-python",
   "name": "python",
   "nbconvert_exporter": "python",
   "pygments_lexer": "ipython3",
   "version": "3.10.6"
  }
 },
 "nbformat": 4,
 "nbformat_minor": 4
}
