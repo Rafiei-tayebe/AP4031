{
 "cells": [
  {
   "cell_type": "code",
   "execution_count": null,
   "metadata": {},
   "outputs": [],
   "source": [
    "# OOP\n",
    "1. Encapsulation\n",
    "2. Polymorphism\n",
    "3. Inheritance"
   ]
  },
  {
   "cell_type": "code",
   "execution_count": null,
   "metadata": {},
   "outputs": [],
   "source": [
    "class s(str):\n",
    "    def test(self):\n",
    "        return 1\n",
    "    pass\n",
    "\n",
    "s1 = s()\n",
    "s2 = s()\n",
    "s1.test()"
   ]
  },
  {
   "cell_type": "code",
   "execution_count": null,
   "metadata": {},
   "outputs": [],
   "source": [
    "# Inheritance\n",
    "class Person:\n",
    "    nationality = 'Iranian'\n",
    "    def __init__(self, firstname, lastname, id_number):\n",
    "        self.firstname = firstname\n",
    "        self.lastname = lastname\n",
    "        self.id_number = id_number\n",
    "    def __str__(self):\n",
    "        return f'{self.firstname} {self.lastname}'\n",
    "       "
   ]
  },
  {
   "cell_type": "code",
   "execution_count": null,
   "metadata": {},
   "outputs": [],
   "source": [
    "class Student(Person):\n",
    "     def __init__(self, firstname, lastname, id_number, score, student_id):\n",
    "        super().__init__(firstname, lastname, id_number)\n",
    "        self.score = score\n",
    "        self.student_id = student_id\n"
   ]
  },
  {
   "cell_type": "code",
   "execution_count": null,
   "metadata": {},
   "outputs": [],
   "source": [
    "p1 = Person('Ali', 'Alavi', '1234567890')"
   ]
  },
  {
   "cell_type": "code",
   "execution_count": null,
   "metadata": {},
   "outputs": [],
   "source": [
    "print(p1)"
   ]
  },
  {
   "cell_type": "code",
   "execution_count": null,
   "metadata": {},
   "outputs": [],
   "source": [
    "s1 = Student('Ali', 'Bagheri', '0987654321')"
   ]
  },
  {
   "cell_type": "code",
   "execution_count": null,
   "metadata": {},
   "outputs": [],
   "source": [
    "print(s1.nationality)"
   ]
  },
  {
   "cell_type": "code",
   "execution_count": null,
   "metadata": {},
   "outputs": [],
   "source": [
    "print(s1)"
   ]
  },
  {
   "cell_type": "markdown",
   "metadata": {},
   "source": [
    "# Inheritance: Base Classes and Subclasses\n",
    "* Often, an object of one class _is an_ object of another class as well\n",
    "* a `CarLoan` _is a_ `Loan` as are `HomeImprovementLoan`s and `MortgageLoan`s\n",
    "* Class `CarLoan` can be said to inherit from class `Loan`. \n",
    "* In this context, class `Loan` is a base class, and class `CarLoan` is a subclass\n",
    "* A `CarLoan` _is a_ specific type of `Loan`, but it’s incorrect to claim that every `Loan` _is a_ `CarLoan`"
   ]
  },
  {
   "cell_type": "markdown",
   "metadata": {},
   "source": [
    "# Inheritance: Base Classes and Subclasses (cont.)\n",
    "* Table of base classes and subclasses—base classes tend to be “more general” and subclasses “more specific”: \n",
    "\n",
    "| Base class\t| Subclasses\n",
    "| --------\t| --------\n",
    "| `Student`\t| `GraduateStudent`, `UndergraduateStuden`\n",
    "| `Shape`\t| `Circle`, `Triangle`, `Rectangle`, `Sphere`, `Cube`\n",
    "| `Loan`\t| `CarLoan`, `HomeImprovementLoan`, `MortgageLoan`\n",
    "| `Employee`\t| `Faculty`, `Staff`\n",
    "| `BankAccount`\t| `CheckingAccount`, `SavingsAccount`"
   ]
  },
  {
   "cell_type": "markdown",
   "metadata": {},
   "source": [
    "# Inheritance: Base Classes and Subclasses (cont.)\n",
    "* Every subclass object _is an_ object of its base class\n",
    "* The set of objects represented by a base class is often larger than the set of objects represented by any of its subclasses\n"
   ]
  },
  {
   "cell_type": "markdown",
   "metadata": {},
   "source": [
    "### `CommunityMember` Inheritance Hierarchy\n",
    "* Inheritance relationships form tree-like _hierarchical_ structures\n",
    "* A base class exists in a hierarchical relationship with its subclasses\n",
    "* With **single inheritance**, a class is derived from _one_ base class\n",
    "* With **multiple inheritance**, a subclass inherits from _two or more_ base classes\n",
    "* Sample class hierarchy, also called an **inheritance hierarchy** for a university community "
   ]
  },
  {
   "cell_type": "markdown",
   "metadata": {},
   "source": [
    "![Sample class hierarchy for a university community](ch10images/AAEMYRT0.png \"Sample class hierarchy for a university community\")"
   ]
  },
  {
   "cell_type": "markdown",
   "metadata": {},
   "source": [
    "* Each arrow in the hierarchy represents an _is-a_ relationship\n",
    "    * “an `Employee` _is a_ `CommunityMember`” \n",
    "    * “a `Teacher` _is a_ `Faculty` member” \n",
    "* `CommunityMember` is the direct base class of `Employee`, `Student` and `Alum` and is an indirect base class of all the other classes in the diagram\n",
    "Starting from the bottom, you can follow the arrows and apply the _is-a_ relationship up to the topmost superclass"
   ]
  },
  {
   "cell_type": "markdown",
   "metadata": {},
   "source": [
    "### `Shape` Inheritance Hierarchy"
   ]
  },
  {
   "cell_type": "markdown",
   "metadata": {},
   "source": [
    "![Shape inheritance hierarchy](ch10images/AAEMYRU0.png \"Shape inheritance hierarchy\")"
   ]
  },
  {
   "cell_type": "markdown",
   "metadata": {},
   "source": [
    "### “is a” vs. “has a”\n",
    "* Inheritance produces **“is-a” relationships** in which an object of a subclass type may also be treated as an object of the base-class type\n",
    "* In “has-a” (composition) relationships, a class has references to one or more objects of other classes as members"
   ]
  },
  {
   "cell_type": "markdown",
   "metadata": {},
   "source": [
    "# Building an Inheritance Hierarchy; Introducing Polymorphism\n",
    "* Hierarchy containing types of employees in a company’s payroll app\n",
    "* All employees of the company have a lot in common\n",
    "    * _commission employees_ (who will be represented as objects of a base class) are paid a percentage of their sales\n",
    "    * _salaried commission employees_ (who will be represented as objects of a subclass) receive a percentage of their sales _plus_ a base salary \n"
   ]
  },
  {
   "cell_type": "markdown",
   "metadata": {},
   "source": [
    "## Base Class `CommissionEmployee` \n",
    "Class `CommissionEmployee` provides the following features: \n",
    "* Method `__init__` creates the data attributes `_first_name`, `_last_name` and `_ssn` (Social Security number), and uses the setter's of properties `gross_sales` and `commission_rate` to create their corresponding data attributes\n",
    "* Read-only properties `first_name`, `last_name` and `ssn`, which return the corresponding data attributes\n",
    "* Read-write properties `gross_sales` and `commission_rate` in which the `setter`s perform data validation\n",
    "* Method `earnings`, which calculates and returns a `CommissionEmployee`’s earnings\n",
    "* Method `__repr__`, which returns a string representation of a `CommissionEmployee`"
   ]
  },
  {
   "cell_type": "markdown",
   "metadata": {},
   "source": [
    "```python\n",
    "# commmissionemployee.py\n",
    "\"\"\"CommissionEmployee base class.\"\"\"\n",
    "from decimal import Decimal\n",
    "\n",
    "class CommissionEmployee:\n",
    "    \"\"\"An employee who gets paid commission based on gross sales.\"\"\"\n",
    "\n",
    "    def __init__(self, first_name, last_name, ssn, \n",
    "                 gross_sales, commission_rate):\n",
    "        \"\"\"Initialize CommissionEmployee's attributes.\"\"\"\n",
    "        self._first_name = first_name\n",
    "        self._last_name = last_name\n",
    "        self._ssn = ssn\n",
    "        self.gross_sales = gross_sales  # validate via property\n",
    "        self.commission_rate = commission_rate  # validate via property\n",
    "\n",
    "    @property\n",
    "    def first_name(self):\n",
    "        return self._first_name\n",
    "\n",
    "    @property\n",
    "    def last_name(self):\n",
    "        return self._last_name\n",
    "\n",
    "    @property\n",
    "    def ssn(self):\n",
    "        return self._ssn\n",
    "\n",
    "    @property\n",
    "    def gross_sales(self):\n",
    "        return self._gross_sales\n",
    "\n",
    "    @gross_sales.setter\n",
    "    def gross_sales(self, sales):\n",
    "        \"\"\"Set gross sales or raise ValueError if invalid.\"\"\"\n",
    "        if sales < Decimal('0.00'):\n",
    "            raise ValueError('Gross sales must be >= to 0')\n",
    "        \n",
    "        self._gross_sales = sales\n",
    "        \n",
    "    @property\n",
    "    def commission_rate(self):\n",
    "        return self._commission_rate\n",
    "\n",
    "    @commission_rate.setter\n",
    "    def commission_rate(self, rate):\n",
    "        \"\"\"Set commission rate or raise ValueError if invalid.\"\"\"\n",
    "        if not (Decimal('0.0') < rate < Decimal('1.0')):\n",
    "            raise ValueError(\n",
    "               'Interest rate must be greater than 0 and less than 1')\n",
    "        \n",
    "        self._commission_rate = rate\n",
    "\n",
    "    def earnings(self):\n",
    "        \"\"\"Calculate earnings.\"\"\"   \n",
    "        return self.gross_sales * self.commission_rate\n",
    "\n",
    "    def __repr__(self):\n",
    "        \"\"\"Return string representation for repr().\"\"\"\n",
    "        return ('CommissionEmployee: ' + \n",
    "            f'{self.first_name} {self.last_name}\\n' +\n",
    "            f'social security number: {self.ssn}\\n' +\n",
    "            f'gross sales: {self.gross_sales:.2f}\\n' +\n",
    "            f'commission rate: {self.commission_rate:.2f}')\n",
    "\n",
    "```"
   ]
  },
  {
   "cell_type": "markdown",
   "metadata": {},
   "source": [
    "### All Classes Inherit Directly or Indirectly from Class `object`\n",
    "* _Every_ Python class inherits from an existing class\n",
    "* When you do not explicitly specify the base class for a new class, Python assumes that the class inherits directly from class `object`\n",
    "* Class `CommissionEmployee`’s header could have been written as\n",
    ">```python\n",
    "class CommissionEmployee(object):\n",
    "```\n",
    "* The parentheses after `CommissionEmployee` indicate inheritance and may contain \n",
    "    * a single class for single inheritance \n",
    "    * a comma-separated list of base classes for multiple inheritance"
   ]
  },
  {
   "cell_type": "markdown",
   "metadata": {},
   "source": [
    "### All Classes Inherit Directly or Indirectly from Class `object` (cont.)\n",
    "* `CommissionEmployee` inherits all the methods of class `object`\n",
    "* Two of the many methods inherited from `object` are `__repr__` and `__str__`\n",
    "    * So _every_ class has these methods that return string representations of the objects on which they’re called\n",
    "* When a base-class method implementation is inappropriate for a derived class, that method can be **overridden** (i.e., redefined) in the derived class with an appropriate implementation\n",
    "    * Method `__repr__` overrides the default implementation from class `object`"
   ]
  },
  {
   "cell_type": "markdown",
   "metadata": {},
   "source": [
    "### Testing Class `CommissionEmployee`  \n",
    "* test some of `CommissionEmployee`’s features"
   ]
  },
  {
   "cell_type": "code",
   "execution_count": 2,
   "metadata": {},
   "outputs": [],
   "source": [
    "from commissionemployee import CommissionEmployee"
   ]
  },
  {
   "cell_type": "code",
   "execution_count": 3,
   "metadata": {},
   "outputs": [],
   "source": [
    "from decimal import Decimal"
   ]
  },
  {
   "cell_type": "code",
   "execution_count": 4,
   "metadata": {},
   "outputs": [],
   "source": [
    "c = CommissionEmployee('Sue', 'Jones', '333-33-3333', \n",
    "    Decimal('10000.00'), Decimal('0.06'))"
   ]
  },
  {
   "cell_type": "code",
   "execution_count": 5,
   "metadata": {},
   "outputs": [
    {
     "data": {
      "text/plain": [
       "CommissionEmployee: Sue Jones\n",
       "social security number: 333-33-3333\n",
       "gross sales: 10000.00\n",
       "commission rate: 0.06"
      ]
     },
     "execution_count": 5,
     "metadata": {},
     "output_type": "execute_result"
    }
   ],
   "source": [
    "c"
   ]
  },
  {
   "cell_type": "markdown",
   "metadata": {},
   "source": [
    "* calculate and display the `CommissionEmployee`’s earnings"
   ]
  },
  {
   "cell_type": "code",
   "execution_count": 6,
   "metadata": {},
   "outputs": [
    {
     "name": "stdout",
     "output_type": "stream",
     "text": [
      "600.0000\n"
     ]
    }
   ],
   "source": [
    "print(c.earnings())"
   ]
  },
  {
   "cell_type": "markdown",
   "metadata": {},
   "source": [
    "* change the `CommissionEmployee`’s gross sales and commission rate, then recalculate the earnings"
   ]
  },
  {
   "cell_type": "code",
   "execution_count": 7,
   "metadata": {},
   "outputs": [],
   "source": [
    "c.gross_sales = Decimal('20000.00')"
   ]
  },
  {
   "cell_type": "code",
   "execution_count": 8,
   "metadata": {},
   "outputs": [],
   "source": [
    "c.commission_rate = Decimal('0.1')"
   ]
  },
  {
   "cell_type": "code",
   "execution_count": 9,
   "metadata": {},
   "outputs": [
    {
     "name": "stdout",
     "output_type": "stream",
     "text": [
      "2000.000\n"
     ]
    }
   ],
   "source": [
    "print(c.earnings())"
   ]
  },
  {
   "cell_type": "markdown",
   "metadata": {},
   "source": [
    "## Subclass `SalariedCommissionEmployee` \n",
    "* With single inheritance, the subclass starts essentially the same as the base class\n",
    "* The real strength of inheritance comes from the ability to define in the subclass additions, replacements or refinements for the features inherited from the base class. \n",
    "* Many of a `SalariedCommissionEmployee`’s capabilities are similar, if not identical, to those of class `CommissionEmployee`\n",
    "    * Both types of employees have first name, last name, Social Security number, gross sales and commission rate data attributes, and properties and methods to manipulate that data\n",
    "* Inheritance enables us to “absorb” the features of a class _without_ duplicating code"
   ]
  },
  {
   "cell_type": "markdown",
   "metadata": {},
   "source": [
    "### Declaring Class `SalariedCommissionEmployee` \n",
    "* Subclass `SalariedCommissionEmployee` _inherits_ most of its capabilities from class `CommissionEmployee`\n",
    "* A `SalariedCommissionEmployee` _is a_ `CommissionEmployee` (because inheritance passes on the capabilities of class `CommissionEmployee`)\n",
    "* Class `SalariedCommissionEmployee` also has the following features:\n",
    "    * Method `__init__`, which initializes all the data inherited from class `CommissionEmployee`, then uses the `base_salary` property’s `setter` to create a `_base_salary` data attribute\n",
    "    * Read-write property `base_salary`, in which the `setter` performs data validation.\n",
    "    * A customized version of method `earnings`\n",
    "    * A customized version of method `__repr__`"
   ]
  },
  {
   "cell_type": "markdown",
   "metadata": {},
   "source": [
    "```python\n",
    "# salariedcommissionemployee.py\n",
    "\"\"\"SalariedCommissionEmployee derived from CommissionEmployee.\"\"\"\n",
    "from commissionemployee import CommissionEmployee\n",
    "from decimal import Decimal\n",
    "\n",
    "class SalariedCommissionEmployee(CommissionEmployee):\n",
    "    \"\"\"An employee who gets paid a salary plus \n",
    "    commission based on gross sales.\"\"\"\n",
    "\n",
    "    def __init__(self, first_name, last_name, ssn, \n",
    "                 gross_sales, commission_rate, base_salary):\n",
    "        \"\"\"Initialize SalariedCommissionEmployee's attributes.\"\"\"\n",
    "        super().__init__(first_name, last_name, ssn, \n",
    "                         gross_sales, commission_rate)\n",
    "        self.base_salary = base_salary  # validate via property\n",
    "\n",
    "    @property\n",
    "    def base_salary(self):\n",
    "        return self._base_salary\n",
    "\n",
    "    @base_salary.setter\n",
    "    def base_salary(self, salary):\n",
    "        \"\"\"Set base salary or raise ValueError if invalid.\"\"\"\n",
    "        if salary < Decimal('0.00'):\n",
    "            raise ValueError('Base salary must be >= to 0')\n",
    "        \n",
    "        self._base_salary = salary\n",
    "\n",
    "    def earnings(self):\n",
    "        \"\"\"Calculate earnings.\"\"\"   \n",
    "        return super().earnings() + self.base_salary\n",
    "\n",
    "    def __repr__(self):\n",
    "        \"\"\"Return string representation for repr().\"\"\"\n",
    "        return ('Salaried' + super().__repr__() +      \n",
    "            f'\\nbase salary: {self.base_salary:.2f}')\n",
    "\n",
    "```"
   ]
  },
  {
   "cell_type": "code",
   "execution_count": 10,
   "metadata": {},
   "outputs": [],
   "source": [
    "\"\"\"SalariedCommissionEmployee derived from CommissionEmployee.\"\"\"\n",
    "from commissionemployee import CommissionEmployee\n",
    "from decimal import Decimal\n",
    "\n",
    "class SalariedCommissionEmployee(CommissionEmployee):\n",
    "    \"\"\"An employee who gets paid a salary plus \n",
    "    commission based on gross sales.\"\"\"\n",
    "\n",
    "    def __init__(self, first_name, last_name, ssn, \n",
    "                 gross_sales, commission_rate, base_salary):\n",
    "        \"\"\"Initialize SalariedCommissionEmployee's attributes.\"\"\"\n",
    "        super().__init__(first_name, last_name, ssn, \n",
    "                         gross_sales, commission_rate)\n",
    "        self.base_salary = base_salary  # validate via property\n",
    "\n",
    "    @property\n",
    "    def base_salary(self):\n",
    "        return self._base_salary\n",
    "\n",
    "    @base_salary.setter\n",
    "    def base_salary(self, salary):\n",
    "        \"\"\"Set base salary or raise ValueError if invalid.\"\"\"\n",
    "        if salary < Decimal('0.00'):\n",
    "            raise ValueError('Base salary must be >= to 0')\n",
    "        \n",
    "        self._base_salary = salary\n",
    "\n",
    "    def earnings(self):\n",
    "        \"\"\"Calculate earnings.\"\"\"   \n",
    "        return super().earnings() + self.base_salary\n",
    "\n",
    "    def __repr__(self):\n",
    "        \"\"\"Return string representation for repr().\"\"\"\n",
    "        return ('Salaried' + super().__repr__() +      \n",
    "            f'\\nbase salary: {self.base_salary:.2f}')"
   ]
  },
  {
   "cell_type": "markdown",
   "metadata": {},
   "source": [
    "### Inheriting from Class `CommissionEmployee`\n",
    "\n",
    "```python\n",
    "class SalariedCommissionEmployee(CommissionEmployee):\n",
    "```\n",
    "* specifies that class `SalariedCommissionEmployee` _inherits_ from `CommissionEmployee`\n",
    "* Don't see class `CommissionEmployee`’s data attributes, properties and methods in class `SalariedCommissionEmployee`, but they are there"
   ]
  },
  {
   "cell_type": "markdown",
   "metadata": {},
   "source": [
    "### Method `__init__` and Built-In Function `super` \n",
    "* _Each subclass `__init__` must explicitly call its base class’s `__init__` to initialize the data attributes inherited from the base class_\n",
    "    * This call should be the first statement in the subclass’s `__init__` method\n",
    "* The notation `super().__init__` uses the built-in function **`super`** to locate and call the base class’s `__init__` method"
   ]
  },
  {
   "cell_type": "markdown",
   "metadata": {},
   "source": [
    "### Overriding Method `earnings`\n",
    "* Class `SalariedCommissionEmployee`’s `earnings` method overrides class `CommissionEmployee`’s `earnings` method to calculate the earnings of a `SalariedCommissionEmployee`\n",
    "    * Obtains the portion of the earnings based on _commission alone_ by calling `CommissionEmployee`’s `earnings` method with the expression `super().earnings()`\n",
    "   "
   ]
  },
  {
   "cell_type": "markdown",
   "metadata": {},
   "source": [
    "### Overriding Method `__repr__`\n",
    "* `SalariedCommissionEmployee`’s `__repr__` method overrides class `CommissionEmployee`’s `__repr__` method to return a `String` representation that’s appropriate for a `SalariedCommissionEmployee`\n",
    "* `super().__repr__()` calls `CommissionEmployee`'s `__repr__` method"
   ]
  },
  {
   "cell_type": "markdown",
   "metadata": {},
   "source": [
    "### Testing Class `SalariedCommissionEmployee` "
   ]
  },
  {
   "cell_type": "code",
   "execution_count": null,
   "metadata": {},
   "outputs": [],
   "source": [
    "from employee.salariedcommissionemployee import SalariedCommissionEmployee"
   ]
  },
  {
   "cell_type": "code",
   "execution_count": 11,
   "metadata": {},
   "outputs": [],
   "source": [
    "s = SalariedCommissionEmployee('Bob', 'Lewis', '444-44-4444',\n",
    "        Decimal('5000.00'), Decimal('0.04'), Decimal('300.00'))"
   ]
  },
  {
   "cell_type": "code",
   "execution_count": 12,
   "metadata": {},
   "outputs": [
    {
     "name": "stdout",
     "output_type": "stream",
     "text": [
      "Bob Lewis 444-44-4444 5000.00 0.04 300.00\n"
     ]
    }
   ],
   "source": [
    "print(s.first_name, s.last_name, s.ssn, s.gross_sales, \n",
    "      s.commission_rate, s.base_salary)"
   ]
  },
  {
   "cell_type": "markdown",
   "metadata": {},
   "source": [
    "* `SalariedCommissionEmployee` object has _all_ of the properties of classes `CommissionEmployee` _and_ `SalariedCommissionEmployee`\n",
    "* Calculate and display the `SalariedCommissionEmployee`’s earnings"
   ]
  },
  {
   "cell_type": "code",
   "execution_count": 13,
   "metadata": {},
   "outputs": [
    {
     "name": "stdout",
     "output_type": "stream",
     "text": [
      "500.0000\n"
     ]
    }
   ],
   "source": [
    "print(s.earnings())"
   ]
  },
  {
   "cell_type": "markdown",
   "metadata": {},
   "source": [
    "* Modify the `gross_sales`, `commission_rate` and `base_salary` properties, then display the updated data via the `SalariedCommissionEmployee`’s `__repr__` method"
   ]
  },
  {
   "cell_type": "code",
   "execution_count": null,
   "metadata": {},
   "outputs": [],
   "source": [
    "s.gross_sales = Decimal('10000.00')"
   ]
  },
  {
   "cell_type": "code",
   "execution_count": null,
   "metadata": {},
   "outputs": [],
   "source": [
    "s.commission_rate = Decimal('0.05')"
   ]
  },
  {
   "cell_type": "code",
   "execution_count": null,
   "metadata": {},
   "outputs": [],
   "source": [
    "s.base_salary = Decimal('1000.00')"
   ]
  },
  {
   "cell_type": "code",
   "execution_count": null,
   "metadata": {},
   "outputs": [],
   "source": [
    "print(s)  # __str__ | __repr__"
   ]
  },
  {
   "cell_type": "code",
   "execution_count": null,
   "metadata": {},
   "outputs": [],
   "source": [
    "s # __repr__"
   ]
  },
  {
   "cell_type": "markdown",
   "metadata": {},
   "source": [
    "* Calculate and display the `SalariedCommissionEmployee`’s updated earnings"
   ]
  },
  {
   "cell_type": "code",
   "execution_count": null,
   "metadata": {},
   "outputs": [],
   "source": [
    "print(f'{s.earnings():,.2f}')"
   ]
  },
  {
   "cell_type": "markdown",
   "metadata": {},
   "source": [
    "### Testing the “is a” Relationship \n",
    "Functions **`issubclass`** and **`isinstance`** are used to test “is a” relationships\n",
    "* `issubclass` determines whether one class is derived from another"
   ]
  },
  {
   "cell_type": "code",
   "execution_count": null,
   "metadata": {},
   "outputs": [],
   "source": [
    "issubclass(SalariedCommissionEmployee, CommissionEmployee)"
   ]
  },
  {
   "cell_type": "markdown",
   "metadata": {},
   "source": [
    "* `isinstance` determines whether an object has an “is a” relationship with a specific type"
   ]
  },
  {
   "cell_type": "code",
   "execution_count": 14,
   "metadata": {},
   "outputs": [
    {
     "data": {
      "text/plain": [
       "True"
      ]
     },
     "execution_count": 14,
     "metadata": {},
     "output_type": "execute_result"
    }
   ],
   "source": [
    "isinstance(s, CommissionEmployee)"
   ]
  },
  {
   "cell_type": "code",
   "execution_count": 15,
   "metadata": {},
   "outputs": [
    {
     "data": {
      "text/plain": [
       "True"
      ]
     },
     "execution_count": 15,
     "metadata": {},
     "output_type": "execute_result"
    }
   ],
   "source": [
    "isinstance(s, SalariedCommissionEmployee)"
   ]
  },
  {
   "cell_type": "code",
   "execution_count": 16,
   "metadata": {},
   "outputs": [
    {
     "data": {
      "text/plain": [
       "__main__.SalariedCommissionEmployee"
      ]
     },
     "execution_count": 16,
     "metadata": {},
     "output_type": "execute_result"
    }
   ],
   "source": [
    "type(s)"
   ]
  },
  {
   "cell_type": "markdown",
   "metadata": {},
   "source": [
    "## Processing `CommissionEmployee`s and `SalariedCommissionEmployee`s Polymorphically\n",
    "* With inheritance, every object of a subclass also may be treated as an object of that subclass’s base class\n",
    "* Can take advantage of this relationship to place objects related through inheritance into a list, then iterate through the list and treat each element as a base-class object\n",
    "    * Allows a variety of objects to be processed in a _general_ way"
   ]
  },
  {
   "cell_type": "code",
   "execution_count": 17,
   "metadata": {},
   "outputs": [],
   "source": [
    "employees = [c, s]"
   ]
  },
  {
   "cell_type": "code",
   "execution_count": 18,
   "metadata": {},
   "outputs": [
    {
     "data": {
      "text/plain": [
       "commissionemployee.CommissionEmployee"
      ]
     },
     "execution_count": 18,
     "metadata": {},
     "output_type": "execute_result"
    }
   ],
   "source": [
    "type(c)"
   ]
  },
  {
   "cell_type": "code",
   "execution_count": 19,
   "metadata": {},
   "outputs": [
    {
     "data": {
      "text/plain": [
       "__main__.SalariedCommissionEmployee"
      ]
     },
     "execution_count": 19,
     "metadata": {},
     "output_type": "execute_result"
    }
   ],
   "source": [
    "type(s)"
   ]
  },
  {
   "cell_type": "code",
   "execution_count": 23,
   "metadata": {},
   "outputs": [],
   "source": [
    "class Test:\n",
    "    def earnings(self):\n",
    "        return 100\n",
    "    def __str__(self):\n",
    "        return \"test\""
   ]
  },
  {
   "cell_type": "code",
   "execution_count": 24,
   "metadata": {},
   "outputs": [],
   "source": [
    "t = Test()"
   ]
  },
  {
   "cell_type": "code",
   "execution_count": 25,
   "metadata": {},
   "outputs": [],
   "source": [
    "employees.append(t)"
   ]
  },
  {
   "cell_type": "code",
   "execution_count": 28,
   "metadata": {},
   "outputs": [
    {
     "name": "stdout",
     "output_type": "stream",
     "text": [
      "CommissionEmployee: Sue Jones\n",
      "social security number: 333-33-3333\n",
      "gross sales: 20000.00\n",
      "commission rate: 0.10\n",
      "2000.000\n",
      "==========\n",
      "SalariedCommissionEmployee: Bob Lewis\n",
      "social security number: 444-44-4444\n",
      "gross sales: 5000.00\n",
      "commission rate: 0.04\n",
      "base salary: 300.00\n",
      "500.0000\n",
      "==========\n",
      "<__main__.Test object at 0x000001E79076CA30>\n",
      "100\n",
      "==========\n",
      "test\n",
      "100\n",
      "==========\n"
     ]
    }
   ],
   "source": [
    "# Duck typing\n",
    "for employee in employees: # employees = [c,s,t,t]\n",
    "    print(employee) # employee = s\n",
    "    print(employee.earnings())\n",
    "    print(\"==========\")"
   ]
  },
  {
   "cell_type": "code",
   "execution_count": 26,
   "metadata": {},
   "outputs": [
    {
     "data": {
      "text/plain": [
       "4"
      ]
     },
     "execution_count": 26,
     "metadata": {},
     "output_type": "execute_result"
    }
   ],
   "source": [
    "len(employees)"
   ]
  },
  {
   "cell_type": "markdown",
   "metadata": {},
   "source": [
    "* Correct string representation and earnings are displayed for each employee\n",
    "* This is called _polymorphism_—a key capability of object-oriented programming (OOP)"
   ]
  },
  {
   "cell_type": "markdown",
   "metadata": {},
   "source": [
    "# Duck Typing and Polymorphism\n",
    "* Most object-oriented programming languages require inheritance-based “is a” relationships to achieve polymorphic behavior\n",
    "* Python also supports **duck typing**, which the Python documentation describes as:\n",
    "> _A programming style which does not look at an object’s type to determine if it has the right interface; instead, the method or attribute is simply called or used (“If it looks like a duck and quacks like a duck, it must be a duck.”)_. \n",
    "* When processing an object at execution time, its type does not matter\n",
    "* As long as the object has the data attribute, property or method (with the appropriate parameters) you wish to access, the code will work "
   ]
  },
  {
   "cell_type": "markdown",
   "metadata": {},
   "source": [
    "# Duck Typing and Polymorphism (cont.)\n",
    "* Reconsider the loop at the end of Section 10.8.3\n",
    "``` python\n",
    "for employee in employees:\n",
    "    print(employee)\n",
    "    print(f'{employee.earnings():,.2f}\\n')\n",
    "```\n",
    "* Works properly as long as `employees` contains only objects that:\n",
    "    * can be displayed with `print` (that is, they have a string representation) \n",
    "    * have an `earnings` method which can be called with no arguments"
   ]
  },
  {
   "cell_type": "markdown",
   "metadata": {},
   "source": [
    "# Duck Typing and Polymorphism (cont.)\n",
    "* All classes inherit from `object` directly or indirectly, so they _all_ inherit the default methods for obtaining string representations that print can display\n",
    "* If a class has an `earnings` method that can be called with no arguments, we can include objects of that class in the list `employees`, even if the object’s class does not have an “is a” relationship with class `CommissionEmployee`\n",
    "* Consider class `WellPaidDuck`:"
   ]
  },
  {
   "cell_type": "code",
   "execution_count": null,
   "metadata": {},
   "outputs": [],
   "source": [
    "class WellPaidDuck:\n",
    "    def __repr__(self):\n",
    "        return 'I am a well-paid duck'\n",
    "    def earnings(self):\n",
    "        return Decimal('1_000_000.00')\n",
    "    \n",
    "    def f(self): # f(c)\n",
    "        print(self.earnings()) # print(c.earnings())"
   ]
  },
  {
   "cell_type": "code",
   "execution_count": null,
   "metadata": {},
   "outputs": [],
   "source": [
    "type(c)"
   ]
  },
  {
   "cell_type": "code",
   "execution_count": null,
   "metadata": {},
   "outputs": [],
   "source": [
    "WellPaidDuck.f(c) # "
   ]
  },
  {
   "cell_type": "markdown",
   "metadata": {},
   "source": [
    "* Clearly not meant to be employees\n",
    "* But, will work with the preceding loop"
   ]
  },
  {
   "cell_type": "code",
   "execution_count": null,
   "metadata": {},
   "outputs": [],
   "source": [
    "from decimal import Decimal"
   ]
  },
  {
   "cell_type": "code",
   "execution_count": null,
   "metadata": {},
   "outputs": [],
   "source": [
    "from commissionemployee import CommissionEmployee"
   ]
  },
  {
   "cell_type": "code",
   "execution_count": null,
   "metadata": {},
   "outputs": [],
   "source": [
    "from salariedcommissionemployee import SalariedCommissionEmployee"
   ]
  },
  {
   "cell_type": "code",
   "execution_count": null,
   "metadata": {},
   "outputs": [],
   "source": [
    "c = CommissionEmployee('Sue', 'Jones', '333-33-3333',\n",
    "                       Decimal('10000.00'), Decimal('0.06'))"
   ]
  },
  {
   "cell_type": "code",
   "execution_count": null,
   "metadata": {},
   "outputs": [],
   "source": [
    "s = SalariedCommissionEmployee('Bob', 'Lewis', '444-44-4444',\n",
    "    Decimal('5000.00'), Decimal('0.04'), Decimal('300.00'))"
   ]
  },
  {
   "cell_type": "code",
   "execution_count": null,
   "metadata": {},
   "outputs": [],
   "source": [
    "d = WellPaidDuck()"
   ]
  },
  {
   "cell_type": "code",
   "execution_count": null,
   "metadata": {},
   "outputs": [],
   "source": [
    "employees = [c, s, d]"
   ]
  },
  {
   "cell_type": "markdown",
   "metadata": {},
   "source": [
    "* Use duck typing to _polymorphically_ process all three objects in the list"
   ]
  },
  {
   "cell_type": "code",
   "execution_count": null,
   "metadata": {},
   "outputs": [],
   "source": [
    "for employee in employees:\n",
    "    print(employee)\n",
    "    print(f'{employee.earnings():,.2f}\\n')"
   ]
  },
  {
   "cell_type": "markdown",
   "metadata": {},
   "source": [
    "## Test-Driving Class Complex "
   ]
  },
  {
   "cell_type": "code",
   "execution_count": null,
   "metadata": {},
   "outputs": [],
   "source": [
    "from complexnumber import Complex"
   ]
  },
  {
   "cell_type": "code",
   "execution_count": null,
   "metadata": {},
   "outputs": [],
   "source": [
    "x = Complex(real=2, imaginary=4)"
   ]
  },
  {
   "cell_type": "code",
   "execution_count": null,
   "metadata": {},
   "outputs": [],
   "source": [
    "x"
   ]
  },
  {
   "cell_type": "code",
   "execution_count": null,
   "metadata": {},
   "outputs": [],
   "source": [
    "y = Complex(real=5, imaginary=-1)"
   ]
  },
  {
   "cell_type": "code",
   "execution_count": null,
   "metadata": {},
   "outputs": [],
   "source": [
    "y"
   ]
  },
  {
   "cell_type": "code",
   "execution_count": null,
   "metadata": {},
   "outputs": [],
   "source": [
    "x + y"
   ]
  },
  {
   "cell_type": "code",
   "execution_count": null,
   "metadata": {},
   "outputs": [],
   "source": [
    "x"
   ]
  },
  {
   "cell_type": "code",
   "execution_count": null,
   "metadata": {},
   "outputs": [],
   "source": [
    "y"
   ]
  },
  {
   "cell_type": "code",
   "execution_count": null,
   "metadata": {},
   "outputs": [],
   "source": [
    "x += y"
   ]
  },
  {
   "cell_type": "code",
   "execution_count": null,
   "metadata": {},
   "outputs": [],
   "source": [
    "x"
   ]
  },
  {
   "cell_type": "code",
   "execution_count": null,
   "metadata": {},
   "outputs": [],
   "source": [
    "y"
   ]
  },
  {
   "cell_type": "markdown",
   "metadata": {},
   "source": [
    "## Class `Complex` Definition\n",
    "### Method `__init__` \n",
    "```python\n",
    "# complexnumber.py\n",
    "\"\"\"Complex class with overloaded operators.\"\"\"\n",
    "\n",
    "class Complex:\n",
    "    \"\"\"Complex class that represents a complex number \n",
    "    with real and imaginary parts.\"\"\"\n",
    "\n",
    "    def __init__(self, real, imaginary):\n",
    "        \"\"\"Initialize Complex class's attributes.\"\"\"\n",
    "        self.real = real\n",
    "        self.imaginary = imaginary\n",
    "\n",
    "\n",
    "```\n",
    "### Overloaded `+` Operator\n",
    "```python\n",
    "\n",
    "    def __add__(self, right):\n",
    "        \"\"\"Overrides the + operator.\"\"\"\n",
    "        return Complex(self.real + right.real, \n",
    "                       self.imaginary + right.imaginary)\n",
    "\n",
    "\n",
    "```\n",
    "### Overloaded `+=` Augmented Assignment\n",
    "```python\n",
    "\n",
    "    def __iadd__(self, right):\n",
    "        \"\"\"Overrides the += operator.\"\"\"\n",
    "        self.real += right.real\n",
    "        self.imaginary += right.imaginary\n",
    "        return self\n",
    "\n",
    "\n",
    "```\n",
    "### Method `__repr__`\n",
    "```python\n",
    "\n",
    "    def __repr__(self):\n",
    "       \"\"\"Return string representation for repr().\"\"\"\n",
    "        return (f'({self.real} ' + \n",
    "                ('+' if self.imaginary >= 0 else '-') +\n",
    "                f' {abs(self.imaginary)}i)')\n",
    "\n",
    "```\n",
    "\n",
    "\n"
   ]
  },
  {
   "cell_type": "markdown",
   "metadata": {},
   "source": [
    "# Operator Overloading \n",
    "* Can use **operator overloading** to define how Python’s operators should handle objects of your own types\n",
    "* Can overload most operators\n",
    "* For every overloadable operator, class `object` defines a special method\n",
    "    * e.g., `__add__` for addition (`+`) or `__mul__` for multiplication (`*`)\n",
    "* Overriding these methods enables you to define how a given operator works for objects of your custom class\n",
    "* Complete list of special methods \n",
    ">https://docs.python.org/3/reference/datamodel.html#special-method-names"
   ]
  },
  {
   "cell_type": "markdown",
   "metadata": {},
   "source": [
    "### Operator Overloading Restrictions\n",
    "* Precedence cannot be changed by overloading\n",
    "* Left-to-right or right-to-left grouping of an operator cannot be changed \n",
    "* “Arity” of an operator—whether it’s unary or binary—cannot be changed\n",
    "* Cannot create new operators\n",
    "* How an operator works on objects of built-in types cannot be changed \n",
    "* Works only with objects of custom classes or with a mixture of an object of a custom class and an object of a built-in type "
   ]
  },
  {
   "cell_type": "markdown",
   "metadata": {},
   "source": [
    "### Complex Numbers \n",
    "* We’ll define a class named `Complex` that represents complex numbers\n",
    "* Complex numbers, like –3 + 4i and 6.2 – 11.73i, have the form \n",
    "```python\n",
    "realPart `+` imaginaryPart `* i`\n",
    "``` \n",
    "* `i` is the square root of -1\n",
    "* We'll overload `+` and `+=` "
   ]
  },
  {
   "cell_type": "markdown",
   "metadata": {},
   "source": [
    "## Test-Driving Class `Complex` "
   ]
  },
  {
   "cell_type": "code",
   "execution_count": null,
   "metadata": {},
   "outputs": [],
   "source": [
    "from complexnumber import Complex"
   ]
  },
  {
   "cell_type": "markdown",
   "metadata": {},
   "source": [
    "* Create and display a couple of `Complex` objects"
   ]
  },
  {
   "cell_type": "code",
   "execution_count": null,
   "metadata": {},
   "outputs": [],
   "source": [
    "x = Complex(real=2, imaginary=4)"
   ]
  },
  {
   "cell_type": "code",
   "execution_count": null,
   "metadata": {},
   "outputs": [],
   "source": [
    "x"
   ]
  },
  {
   "cell_type": "code",
   "execution_count": null,
   "metadata": {},
   "outputs": [],
   "source": [
    "y = Complex(real=5, imaginary=-1)"
   ]
  },
  {
   "cell_type": "code",
   "execution_count": null,
   "metadata": {},
   "outputs": [],
   "source": [
    "y"
   ]
  },
  {
   "cell_type": "markdown",
   "metadata": {},
   "source": [
    "* Use the `+` operator to add the `Complex` objects `x` and `y`\n",
    "* Adds the real parts of the two operands and the imaginary parts of the two operands, then returns a new `Complex` object"
   ]
  },
  {
   "cell_type": "code",
   "execution_count": null,
   "metadata": {},
   "outputs": [],
   "source": [
    "x + y"
   ]
  },
  {
   "cell_type": "markdown",
   "metadata": {},
   "source": [
    "* `+` does not modify either of its operands"
   ]
  },
  {
   "cell_type": "code",
   "execution_count": null,
   "metadata": {},
   "outputs": [],
   "source": [
    "x"
   ]
  },
  {
   "cell_type": "code",
   "execution_count": null,
   "metadata": {},
   "outputs": [],
   "source": [
    "y"
   ]
  },
  {
   "cell_type": "markdown",
   "metadata": {},
   "source": [
    "* Use `+=` to add `y` to `x` and store the result in `x`\n",
    "* `+=` operator _modifies_ its left operand"
   ]
  },
  {
   "cell_type": "code",
   "execution_count": null,
   "metadata": {},
   "outputs": [],
   "source": [
    "x += y"
   ]
  },
  {
   "cell_type": "code",
   "execution_count": null,
   "metadata": {},
   "outputs": [],
   "source": [
    "x"
   ]
  },
  {
   "cell_type": "code",
   "execution_count": null,
   "metadata": {},
   "outputs": [],
   "source": [
    "y"
   ]
  },
  {
   "cell_type": "code",
   "execution_count": null,
   "metadata": {},
   "outputs": [],
   "source": [
    "x -= y"
   ]
  },
  {
   "cell_type": "markdown",
   "metadata": {},
   "source": [
    "## Class `Complex` Definition\n",
    "\n",
    "### Method `__init__` \n",
    "* Initializes the `real` and `imaginary` data attributes"
   ]
  },
  {
   "cell_type": "markdown",
   "metadata": {},
   "source": [
    "```python\n",
    "# complexnumber.py\n",
    "\"\"\"Complex class with overloaded operators.\"\"\"\n",
    "\n",
    "class Complex:\n",
    "    \"\"\"Complex class that represents a complex number \n",
    "    with real and imaginary parts.\"\"\"\n",
    "\n",
    "    def __init__(self, real, imaginary):\n",
    "        \"\"\"Initialize Complex class's attributes.\"\"\"\n",
    "        self.real = real\n",
    "        self.imaginary = imaginary\n",
    "\n",
    "\n",
    "```"
   ]
  },
  {
   "cell_type": "markdown",
   "metadata": {},
   "source": [
    "### Overloaded `+` Operator\n",
    "* Overridden special method **`__add__`** defines how to overload the `+` operator "
   ]
  },
  {
   "cell_type": "markdown",
   "metadata": {},
   "source": [
    "```python\n",
    "    def __add__(self, right):\n",
    "        \"\"\"Overrides the + operator.\"\"\"\n",
    "        \n",
    "        return Complex(self.real + right.real, \n",
    "                       self.imaginary + right.imaginary)\n",
    "\n",
    "\n",
    "```"
   ]
  },
  {
   "cell_type": "markdown",
   "metadata": {},
   "source": [
    "* Methods that overload binary operators must provide two parameters\n",
    "    * the _first_ (`self`) is the _left_ operand \n",
    "    * the _second_ (`right`) is the _right_ operand\n",
    "* We do _not_ modify the contents of either of the original operands\n",
    "    * Matches our intuitive sense of how this operator should behave"
   ]
  },
  {
   "cell_type": "markdown",
   "metadata": {},
   "source": [
    "### Overloaded `+=` Augmented Assignment\n",
    "* Override special method **`__iadd__`** to define how `+=` adds two `Complex` objects"
   ]
  },
  {
   "cell_type": "markdown",
   "metadata": {},
   "source": [
    "```python\n",
    "    def __iadd__(self, right):\n",
    "        \"\"\"Overrides the += operator.\"\"\"\n",
    "        self.real += right.real # self.real = relf.real + right.real\n",
    "        self.imaginary += right.imaginary\n",
    "        return self\n",
    "\n",
    "\n",
    "```"
   ]
  },
  {
   "cell_type": "markdown",
   "metadata": {},
   "source": [
    "* Augmented assignments modify their left operands, so method `__iadd__` modifies the `self` object, which represents the left operand, then returns `self`"
   ]
  },
  {
   "cell_type": "markdown",
   "metadata": {},
   "source": [
    "### Method `__repr__`"
   ]
  },
  {
   "cell_type": "markdown",
   "metadata": {},
   "source": [
    "```python\n",
    "    def __repr__(self):\n",
    "        \"\"\"Return string representation for repr().\"\"\"\n",
    "        return (f'({self.real} ' + \n",
    "                ('+' if self.imaginary >= 0 else '-') +\n",
    "                f' {abs(self.imaginary)}i)')\n",
    "\n",
    "```"
   ]
  }
 ],
 "metadata": {
  "kernelspec": {
   "display_name": "Python 3 (ipykernel)",
   "language": "python",
   "name": "python3"
  },
  "language_info": {
   "codemirror_mode": {
    "name": "ipython",
    "version": 3
   },
   "file_extension": ".py",
   "mimetype": "text/x-python",
   "name": "python",
   "nbconvert_exporter": "python",
   "pygments_lexer": "ipython3",
   "version": "3.10.6"
  }
 },
 "nbformat": 4,
 "nbformat_minor": 4
}
