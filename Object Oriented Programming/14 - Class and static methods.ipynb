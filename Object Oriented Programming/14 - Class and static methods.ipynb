{
 "cells": [
  {
   "cell_type": "markdown",
   "metadata": {},
   "source": [
    "+ __Instance method:__ Used to access or modify the object state. If we use instance variables inside a method, such methods are called instance methods. It must have a self parameter to refer to the current object.\n",
    "\n",
    "+ __Class method:__ Used to access or modify the class state. In method implementation, if we use only class variables, then such type of methods we should declare as a class method. The class method has a cls parameter which refers to the class.\n",
    "\n",
    "+ __Static method:__ It is a general utility method that performs a task in isolation. Inside this method, we don’t use instance or class variable because this static method doesn’t take any parameters like self and cls."
   ]
  },
  {
   "cell_type": "markdown",
   "metadata": {},
   "source": [
    "### class methods\n",
    "1. In method implementation, if we use only class variables, we should declare such methods as class methods. The class method has a cls as the first parameter, which refers to the class.\n",
    "\n",
    "2. Class methods are used when we are dealing with factory methods. Factory methods are those methods that return a class object for different use cases. Thus, factory methods create concrete implementations of a common interface.\n",
    "\n",
    "* The class method can be called using ClassName.method_name() as well as by using an object of the class."
   ]
  },
  {
   "cell_type": "code",
   "execution_count": 2,
   "metadata": {},
   "outputs": [],
   "source": [
    "class Student:\n",
    "    school_name = 'ABC'\n",
    "    def __init__(self, name, age): # magic method\n",
    "        self.name = name\n",
    "        self.age = age\n",
    "    \n",
    "    @classmethod\n",
    "    def change_school(cls, name):\n",
    "        cls.school_name = name       \n",
    "    \n",
    "    "
   ]
  },
  {
   "cell_type": "code",
   "execution_count": 8,
   "metadata": {},
   "outputs": [],
   "source": [
    "s1 = Student('a', 15)\n",
    "s2 = Student('b', 20)"
   ]
  },
  {
   "cell_type": "code",
   "execution_count": 9,
   "metadata": {},
   "outputs": [
    {
     "data": {
      "text/plain": [
       "'XYZ'"
      ]
     },
     "execution_count": 9,
     "metadata": {},
     "output_type": "execute_result"
    }
   ],
   "source": [
    "s1.school_name"
   ]
  },
  {
   "cell_type": "code",
   "execution_count": 10,
   "metadata": {},
   "outputs": [],
   "source": [
    "s1.change_school('XYZ')"
   ]
  },
  {
   "cell_type": "code",
   "execution_count": 11,
   "metadata": {},
   "outputs": [
    {
     "data": {
      "text/plain": [
       "'XYZ'"
      ]
     },
     "execution_count": 11,
     "metadata": {},
     "output_type": "execute_result"
    }
   ],
   "source": [
    "s2.school_name"
   ]
  },
  {
   "cell_type": "code",
   "execution_count": 12,
   "metadata": {},
   "outputs": [
    {
     "data": {
      "text/plain": [
       "'XYZ'"
      ]
     },
     "execution_count": 12,
     "metadata": {},
     "output_type": "execute_result"
    }
   ],
   "source": [
    "Student.school_name"
   ]
  },
  {
   "cell_type": "markdown",
   "metadata": {},
   "source": [
    "### Define Class Method\n",
    "\n",
    "Any method we create in a class will automatically be created as an instance method. We must explicitly tell Python that it is a class method using the @classmethod decorator or classmethod() function.\n",
    "\n",
    "Class methods are defined inside a class, and it is pretty similar to defining a regular function.\n",
    "\n",
    "Like, inside an instance method, we use the self keyword to access or modify the instance variables. Same inside the class method, we use the cls keyword as a first parameter to access class variables. Therefore the class method gives us control of changing the class state.\n",
    "\n",
    "\n",
    "\n",
    "+ You may use a variable named differently for cls, but it is discouraged since self is the recommended convention in Python.\n",
    "+ The class method can only access the class attributes, not the instance attributes"
   ]
  },
  {
   "cell_type": "code",
   "execution_count": null,
   "metadata": {},
   "outputs": [],
   "source": [
    "from datetime import date\n",
    "\n",
    "class Student:\n",
    "    def __init__(self, name, age):\n",
    "        self.name = name\n",
    "        self.age = age\n",
    "\n",
    "    @classmethod\n",
    "    def calculate_age(cls, name, birth_year):\n",
    "        # calculate age an set it as a age\n",
    "        # return new object\n",
    "        return cls(name, date.today().year - birth_year)\n",
    "\n",
    "    def show(self):\n",
    "        print(self.name + \"'s age is: \" + str(self.age))\n",
    "\n",
    "ali = Student('Ali', 20)\n",
    "ali.show()\n",
    "\n",
    "# create new object using the factory method\n",
    "mina = Student.calculate_age(\"Mina\", 2000)\n",
    "mina.show()"
   ]
  },
  {
   "cell_type": "markdown",
   "metadata": {},
   "source": [
    "+ In the above example, we created two objects, one using the constructor and the second using the calculate_age() method.\n",
    "+ The constructor takes two arguments name and age. On the other hand, class method takes cls, name, and birth_year and returns a class instance which nothing but a new object.\n",
    "+ The @classmethod decorator is used for converting calculate_age() method to a class method. \n",
    "+ The calculate_age() method takes Student class (cls) as a first parameter and returns constructor by calling Student(name, date.today().year - birthYear), which is equivalent to Student(name, age).\n"
   ]
  },
  {
   "cell_type": "markdown",
   "metadata": {},
   "source": [
    "* As we know, the class method is bound to class rather than an object. So we can call the class method both by calling class and object."
   ]
  },
  {
   "cell_type": "markdown",
   "metadata": {},
   "source": [
    "### static methods\n",
    "Static methods are a special case of methods. Sometimes, you’ll write code that belongs to a class, but that doesn’t use the object itself at all. It is a utility method and doesn’t need an object (self parameter) to complete its operation. So we declare it as a static method. Also, we can call it from another method of a class."
   ]
  },
  {
   "cell_type": "code",
   "execution_count": 14,
   "metadata": {},
   "outputs": [
    {
     "name": "stdout",
     "output_type": "stream",
     "text": [
      "Completed task_1\n",
      "Completed task_2\n",
      "Completed task_3\n"
     ]
    }
   ],
   "source": [
    "class Employee:\n",
    "\n",
    "    def __init__(self, name, salary, project_name):\n",
    "        self.name = name\n",
    "        self.salary = salary\n",
    "        self.project_name = project_name\n",
    "\n",
    "    @staticmethod\n",
    "    def gather_requirement(project_name):\n",
    "        if project_name == 'ABC Project':\n",
    "            requirement = ['task_1', 'task_2', 'task_3']\n",
    "        else:\n",
    "            requirement = ['task_1']\n",
    "        return requirement\n",
    "\n",
    "    # instance method\n",
    "    def work(self):\n",
    "        # call static method from instance method\n",
    "        requirement = self.gather_requirement(self.project_name)\n",
    "        for task in requirement:\n",
    "            print('Completed', task)\n",
    "\n",
    "emp = Employee('Ali', 12000, 'ABC Project')\n",
    "emp.work()"
   ]
  },
  {
   "cell_type": "markdown",
   "metadata": {},
   "source": [
    "#### Advantages of a Static Method\n",
    "\n",
    "Here, the static method has the following advantages:\n",
    "\n",
    "1. Consume Less memory: Instance methods are object too, and creating them has a cost. Having a static method avoids that. Let’s assume you have ten employee objects and if you create gather_requirement() as a instance method then Python have to create a ten copies of this method (seperate for each object) which will consume more memeory. On the other hand static method has only one copy per class.\n",
    "\n",
    "2. To Write Utility functions: Static methods have limited use because they don’t have access to the attributes of an object (instance variables) and class attributes (class variables). However, they can be helpful in utility such as conversion form one type to another. The parameters provided are enough to operate.\n",
    "\n",
    "3. Readabiltity: Seeing the @staticmethod at the top of the method, we know that the method does not depend on the object’s state or the class state."
   ]
  },
  {
   "cell_type": "code",
   "execution_count": 15,
   "metadata": {},
   "outputs": [
    {
     "name": "stdout",
     "output_type": "stream",
     "text": [
      "False\n",
      "True\n",
      "True\n"
     ]
    }
   ],
   "source": [
    "ali = Employee('Ali', 12000, 'ABC Project')\n",
    "mina = Employee('Mina', 7000, 'XYZ Project')\n",
    "\n",
    "# false\n",
    "# because seperate copy of instance method is created for each object\n",
    "print(ali.work is mina.work)\n",
    "\n",
    "# True\n",
    "# because only one copy is created\n",
    "# ali and mina objects share the same methods\n",
    "print(ali.gather_requirement is mina.gather_requirement)\n",
    "\n",
    "# True\n",
    "print(ali.gather_requirement is Employee.gather_requirement)"
   ]
  },
  {
   "cell_type": "markdown",
   "metadata": {},
   "source": [
    "#### Call Static Method from Another Method\n",
    "\n",
    "Let’s see how to call a static method from another static method of the same class. Here we will class a static method from a class method. "
   ]
  },
  {
   "cell_type": "code",
   "execution_count": null,
   "metadata": {},
   "outputs": [],
   "source": [
    "class Test :\n",
    "    @staticmethod\n",
    "    def static_method_1():\n",
    "        print('static method 1')\n",
    "\n",
    "    @staticmethod\n",
    "    def static_method_2() :\n",
    "        Test.static_method_1()\n",
    "\n",
    "    @classmethod\n",
    "    def class_method_1(cls) :\n",
    "        cls.static_method_2()\n",
    "\n",
    "# call class method\n",
    "Test.class_method_1()"
   ]
  },
  {
   "cell_type": "code",
   "execution_count": null,
   "metadata": {},
   "outputs": [],
   "source": []
  }
 ],
 "metadata": {
  "kernelspec": {
   "display_name": "Python 3 (ipykernel)",
   "language": "python",
   "name": "python3"
  },
  "language_info": {
   "codemirror_mode": {
    "name": "ipython",
    "version": 3
   },
   "file_extension": ".py",
   "mimetype": "text/x-python",
   "name": "python",
   "nbconvert_exporter": "python",
   "pygments_lexer": "ipython3",
   "version": "3.10.6"
  }
 },
 "nbformat": 4,
 "nbformat_minor": 4
}
