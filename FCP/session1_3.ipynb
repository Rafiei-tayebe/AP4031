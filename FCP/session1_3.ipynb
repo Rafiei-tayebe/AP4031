{
 "cells": [
  {
   "cell_type": "code",
   "execution_count": null,
   "id": "fabf0f1e",
   "metadata": {},
   "outputs": [],
   "source": [
    "# rafiei.ta@gmail.com"
   ]
  },
  {
   "cell_type": "code",
   "execution_count": 1,
   "id": "8aae490b",
   "metadata": {},
   "outputs": [],
   "source": [
    "# Fundamentals of Computer Programming\n",
    "# Functional Programming\n",
    "# Object Oriented Programming \n",
    "# Concurrent Programming \n",
    "# Web Crawl\n",
    "# GUI\n",
    "# API \n",
    "# Introduction to Data Science "
   ]
  },
  {
   "cell_type": "code",
   "execution_count": null,
   "id": "b30168b7",
   "metadata": {},
   "outputs": [],
   "source": [
    "# Marks:\n",
    "# Exercises: 10 Marks\n",
    "# Final Project: 5 marks\n",
    "# Final Exam: 5 marks\n",
    "# Weekly Quiz: 2 marks --> Sat."
   ]
  },
  {
   "cell_type": "code",
   "execution_count": 2,
   "id": "7054e542",
   "metadata": {},
   "outputs": [],
   "source": [
    "x = 2"
   ]
  },
  {
   "cell_type": "code",
   "execution_count": 3,
   "id": "90bd809d",
   "metadata": {},
   "outputs": [
    {
     "data": {
      "text/plain": [
       "int"
      ]
     },
     "execution_count": 3,
     "metadata": {},
     "output_type": "execute_result"
    }
   ],
   "source": [
    "type(x)"
   ]
  },
  {
   "cell_type": "code",
   "execution_count": 4,
   "id": "f5910e22",
   "metadata": {},
   "outputs": [
    {
     "data": {
      "text/plain": [
       "str"
      ]
     },
     "execution_count": 4,
     "metadata": {},
     "output_type": "execute_result"
    }
   ],
   "source": [
    "x = \"sss\"\n",
    "type(x)"
   ]
  },
  {
   "cell_type": "code",
   "execution_count": 5,
   "id": "dd74185a",
   "metadata": {},
   "outputs": [
    {
     "name": "stdout",
     "output_type": "stream",
     "text": [
      "12345\n"
     ]
    },
    {
     "data": {
      "text/plain": [
       "str"
      ]
     },
     "execution_count": 5,
     "metadata": {},
     "output_type": "execute_result"
    }
   ],
   "source": [
    "#input / print\n",
    "y = input() # string\n",
    "type(y)"
   ]
  },
  {
   "cell_type": "code",
   "execution_count": null,
   "id": "2caa0cf8",
   "metadata": {},
   "outputs": [],
   "source": [
    "# type casting\n",
    "y = int(y)\n",
    "y = float(y)\n",
    "y = str(y) "
   ]
  },
  {
   "cell_type": "code",
   "execution_count": null,
   "id": "661df139",
   "metadata": {},
   "outputs": [],
   "source": [
    "mystr = \"hello\"\n",
    "mystr = 'hello'\n",
    "mystr = '''\n",
    "hello\n",
    "world\n",
    "'''\n",
    "mystr= \"\"\"\n",
    "hello \n",
    "world\n",
    "\"\"\""
   ]
  },
  {
   "cell_type": "code",
   "execution_count": 6,
   "id": "976bddfb",
   "metadata": {},
   "outputs": [
    {
     "name": "stdout",
     "output_type": "stream",
     "text": [
      "1\n",
      "1\n",
      "[1.5, 'hello']\n"
     ]
    }
   ],
   "source": [
    "mylist = [1, 1.5, \"hello\", [1,2], []]\n",
    "print(mylist[0])\n",
    "print(mylist[-5])\n",
    "print(mylist[1:3]) # [1.5, \"hello\"]\n",
    "mylist[-3] = \"salam\"\n"
   ]
  },
  {
   "cell_type": "code",
   "execution_count": 7,
   "id": "003da3f4",
   "metadata": {},
   "outputs": [
    {
     "data": {
      "text/plain": [
       "[1, 1.5, 'salam', [1, 2], []]"
      ]
     },
     "execution_count": 7,
     "metadata": {},
     "output_type": "execute_result"
    }
   ],
   "source": [
    "mylist"
   ]
  },
  {
   "cell_type": "code",
   "execution_count": 8,
   "id": "bffac82a",
   "metadata": {},
   "outputs": [],
   "source": [
    "mydict = {\"hello\" : \"Salam\", \"apple\": \"sib\"}"
   ]
  },
  {
   "cell_type": "code",
   "execution_count": 9,
   "id": "d2d2ba08",
   "metadata": {},
   "outputs": [
    {
     "data": {
      "text/plain": [
       "'Salam'"
      ]
     },
     "execution_count": 9,
     "metadata": {},
     "output_type": "execute_result"
    }
   ],
   "source": [
    "mydict[\"hello\"]"
   ]
  },
  {
   "cell_type": "code",
   "execution_count": 10,
   "id": "e6441c5e",
   "metadata": {},
   "outputs": [
    {
     "name": "stdout",
     "output_type": "stream",
     "text": [
      "dict_keys(['hello', 'apple'])\n"
     ]
    }
   ],
   "source": [
    "print(mydict.keys())"
   ]
  },
  {
   "cell_type": "code",
   "execution_count": 11,
   "id": "751c55bf",
   "metadata": {},
   "outputs": [
    {
     "name": "stdout",
     "output_type": "stream",
     "text": [
      "dict_values(['Salam', 'sib'])\n"
     ]
    }
   ],
   "source": [
    "print(mydict.values())"
   ]
  },
  {
   "cell_type": "code",
   "execution_count": 12,
   "id": "901eba63",
   "metadata": {},
   "outputs": [
    {
     "name": "stdout",
     "output_type": "stream",
     "text": [
      "dict_items([('hello', 'Salam'), ('apple', 'sib')])\n"
     ]
    }
   ],
   "source": [
    "print(mydict.items())"
   ]
  },
  {
   "cell_type": "code",
   "execution_count": 13,
   "id": "d32d44d3",
   "metadata": {},
   "outputs": [],
   "source": [
    "mytuple = ('hello', 'Salam')"
   ]
  },
  {
   "cell_type": "code",
   "execution_count": 15,
   "id": "51b67063",
   "metadata": {},
   "outputs": [
    {
     "data": {
      "text/plain": [
       "'Salam'"
      ]
     },
     "execution_count": 15,
     "metadata": {},
     "output_type": "execute_result"
    }
   ],
   "source": [
    "mytuple[-1]"
   ]
  },
  {
   "cell_type": "code",
   "execution_count": 17,
   "id": "2f538b74",
   "metadata": {},
   "outputs": [
    {
     "name": "stdout",
     "output_type": "stream",
     "text": [
      "[1, 1.5, 'salam', [1, 2], [], 10]\n"
     ]
    }
   ],
   "source": [
    "mylist.append(10)\n",
    "print(mylist)"
   ]
  },
  {
   "cell_type": "code",
   "execution_count": 18,
   "id": "d07c3df4",
   "metadata": {},
   "outputs": [
    {
     "name": "stdout",
     "output_type": "stream",
     "text": [
      "[1, 1.5, 'salam', [1, 2, 3], [1, 2], [], 10]\n"
     ]
    }
   ],
   "source": [
    "mylist.insert(3, [1,2,3])\n",
    "print(mylist)"
   ]
  },
  {
   "cell_type": "code",
   "execution_count": 20,
   "id": "ad1fd890",
   "metadata": {},
   "outputs": [
    {
     "ename": "TypeError",
     "evalue": "'tuple' object does not support item assignment",
     "output_type": "error",
     "traceback": [
      "\u001b[1;31m---------------------------------------------------------------------------\u001b[0m",
      "\u001b[1;31mTypeError\u001b[0m                                 Traceback (most recent call last)",
      "Input \u001b[1;32mIn [20]\u001b[0m, in \u001b[0;36m<cell line: 1>\u001b[1;34m()\u001b[0m\n\u001b[1;32m----> 1\u001b[0m \u001b[43mmytuple\u001b[49m\u001b[43m[\u001b[49m\u001b[38;5;241;43m0\u001b[39;49m\u001b[43m]\u001b[49m \u001b[38;5;241m=\u001b[39m \u001b[38;5;241m1\u001b[39m\n",
      "\u001b[1;31mTypeError\u001b[0m: 'tuple' object does not support item assignment"
     ]
    }
   ],
   "source": [
    "mytuple[0] = 1"
   ]
  },
  {
   "cell_type": "code",
   "execution_count": 21,
   "id": "321bb0f3",
   "metadata": {},
   "outputs": [],
   "source": [
    "mylist?"
   ]
  },
  {
   "cell_type": "code",
   "execution_count": 22,
   "id": "6f98c7d7",
   "metadata": {},
   "outputs": [
    {
     "data": {
      "text/plain": [
       "['__add__',\n",
       " '__class__',\n",
       " '__class_getitem__',\n",
       " '__contains__',\n",
       " '__delattr__',\n",
       " '__delitem__',\n",
       " '__dir__',\n",
       " '__doc__',\n",
       " '__eq__',\n",
       " '__format__',\n",
       " '__ge__',\n",
       " '__getattribute__',\n",
       " '__getitem__',\n",
       " '__gt__',\n",
       " '__hash__',\n",
       " '__iadd__',\n",
       " '__imul__',\n",
       " '__init__',\n",
       " '__init_subclass__',\n",
       " '__iter__',\n",
       " '__le__',\n",
       " '__len__',\n",
       " '__lt__',\n",
       " '__mul__',\n",
       " '__ne__',\n",
       " '__new__',\n",
       " '__reduce__',\n",
       " '__reduce_ex__',\n",
       " '__repr__',\n",
       " '__reversed__',\n",
       " '__rmul__',\n",
       " '__setattr__',\n",
       " '__setitem__',\n",
       " '__sizeof__',\n",
       " '__str__',\n",
       " '__subclasshook__',\n",
       " 'append',\n",
       " 'clear',\n",
       " 'copy',\n",
       " 'count',\n",
       " 'extend',\n",
       " 'index',\n",
       " 'insert',\n",
       " 'pop',\n",
       " 'remove',\n",
       " 'reverse',\n",
       " 'sort']"
      ]
     },
     "execution_count": 22,
     "metadata": {},
     "output_type": "execute_result"
    }
   ],
   "source": [
    "dir(mylist)"
   ]
  },
  {
   "cell_type": "code",
   "execution_count": 24,
   "id": "427bc0b9",
   "metadata": {},
   "outputs": [
    {
     "data": {
      "text/plain": [
       "1"
      ]
     },
     "execution_count": 24,
     "metadata": {},
     "output_type": "execute_result"
    }
   ],
   "source": [
    "mylist.count(\"salam\")"
   ]
  },
  {
   "cell_type": "code",
   "execution_count": 25,
   "id": "9f5043ff",
   "metadata": {},
   "outputs": [
    {
     "data": {
      "text/plain": [
       "[1, 1.5, 'salam', [1, 2, 3], [1, 2], [], 10, 1, 2, 3]"
      ]
     },
     "execution_count": 25,
     "metadata": {},
     "output_type": "execute_result"
    }
   ],
   "source": [
    "mylist.extend([1 , 2, 3])\n",
    "mylist"
   ]
  },
  {
   "cell_type": "code",
   "execution_count": 26,
   "id": "b8a47243",
   "metadata": {},
   "outputs": [
    {
     "name": "stdout",
     "output_type": "stream",
     "text": [
      "[1, 1.5, [1, 2, 3], [1, 2], [], 10, 1, 2, 3]\n"
     ]
    }
   ],
   "source": [
    "mylist.remove('salam')\n",
    "print(mylist)"
   ]
  },
  {
   "cell_type": "code",
   "execution_count": 27,
   "id": "b6255a61",
   "metadata": {},
   "outputs": [
    {
     "data": {
      "text/plain": [
       "[1, 1.5, [1, 2], [], 10, 1, 2, 3]"
      ]
     },
     "execution_count": 27,
     "metadata": {},
     "output_type": "execute_result"
    }
   ],
   "source": [
    "mylist.pop(2)\n",
    "mylist"
   ]
  },
  {
   "cell_type": "code",
   "execution_count": 28,
   "id": "eb204aca",
   "metadata": {},
   "outputs": [
    {
     "name": "stdout",
     "output_type": "stream",
     "text": [
      "[1, 1.5, [1, 2], [], 10, 1, 3]\n"
     ]
    }
   ],
   "source": [
    "mylist.remove(2)\n",
    "print(mylist)"
   ]
  },
  {
   "cell_type": "code",
   "execution_count": 29,
   "id": "08cf67be",
   "metadata": {},
   "outputs": [
    {
     "data": {
      "text/plain": [
       "4"
      ]
     },
     "execution_count": 29,
     "metadata": {},
     "output_type": "execute_result"
    }
   ],
   "source": [
    "mylist.index(10)"
   ]
  },
  {
   "cell_type": "code",
   "execution_count": 30,
   "id": "cdef2e9b",
   "metadata": {},
   "outputs": [
    {
     "name": "stdout",
     "output_type": "stream",
     "text": [
      "a:  2637814497520\n",
      "b:  2637814497520\n"
     ]
    }
   ],
   "source": [
    "a = 1\n",
    "b = a\n",
    "\n",
    "print(\"a: \", id(a))\n",
    "print(\"b: \", id(b))"
   ]
  },
  {
   "cell_type": "code",
   "execution_count": 31,
   "id": "a12cc321",
   "metadata": {},
   "outputs": [
    {
     "name": "stdout",
     "output_type": "stream",
     "text": [
      "a:  2637814497520\n",
      "b:  2637814497584\n"
     ]
    }
   ],
   "source": [
    "b += 2 # \n",
    "print(\"a: \", id(a))\n",
    "print(\"b: \", id(b))"
   ]
  },
  {
   "cell_type": "code",
   "execution_count": 32,
   "id": "690f6737",
   "metadata": {},
   "outputs": [
    {
     "name": "stdout",
     "output_type": "stream",
     "text": [
      "a:  2637923205376\n",
      "b:  2637923205376\n"
     ]
    }
   ],
   "source": [
    "a = [1, 2]\n",
    "b = a\n",
    "print(\"a: \", id(a))\n",
    "print(\"b: \", id(b))"
   ]
  },
  {
   "cell_type": "code",
   "execution_count": 33,
   "id": "2630059e",
   "metadata": {},
   "outputs": [
    {
     "name": "stdout",
     "output_type": "stream",
     "text": [
      "a:  2637923205376\n",
      "b:  2637923205376\n"
     ]
    }
   ],
   "source": [
    "b += [2]\n",
    "print(\"a: \", id(a))\n",
    "print(\"b: \", id(b))"
   ]
  },
  {
   "cell_type": "code",
   "execution_count": 34,
   "id": "71d36f7a",
   "metadata": {},
   "outputs": [
    {
     "name": "stdout",
     "output_type": "stream",
     "text": [
      "[1, 2, 2]\n"
     ]
    }
   ],
   "source": [
    "print(a)"
   ]
  },
  {
   "cell_type": "code",
   "execution_count": 35,
   "id": "ac209f29",
   "metadata": {},
   "outputs": [
    {
     "name": "stdout",
     "output_type": "stream",
     "text": [
      "a:  2637895133888\n",
      "b:  2637923186048\n"
     ]
    }
   ],
   "source": [
    "a = [1, 2]\n",
    "b = a.copy()\n",
    "print(\"a: \", id(a))\n",
    "print(\"b: \", id(b))"
   ]
  },
  {
   "cell_type": "code",
   "execution_count": 36,
   "id": "7be00970",
   "metadata": {},
   "outputs": [],
   "source": [
    "a = [1, 2, 3, 4, 5]\n",
    "b = a[2:]\n"
   ]
  },
  {
   "cell_type": "code",
   "execution_count": 37,
   "id": "f3bbf8fc",
   "metadata": {},
   "outputs": [
    {
     "name": "stdout",
     "output_type": "stream",
     "text": [
      "[1, 2, 3, 4, 5]\n",
      "[3, 4, 5, -1]\n"
     ]
    }
   ],
   "source": [
    "b += [-1]\n",
    "print(a)\n",
    "print(b)"
   ]
  },
  {
   "cell_type": "code",
   "execution_count": 40,
   "id": "b82941a9",
   "metadata": {},
   "outputs": [
    {
     "name": "stdout",
     "output_type": "stream",
     "text": [
      "[0, 0, 0, 0, 0]\n"
     ]
    }
   ],
   "source": [
    "#list comprehension\n",
    "#[0, 0 , 0 , 0 ,0]\n",
    "a = [0]*5\n",
    "print(a)"
   ]
  },
  {
   "cell_type": "code",
   "execution_count": 41,
   "id": "db592a9a",
   "metadata": {},
   "outputs": [
    {
     "name": "stdout",
     "output_type": "stream",
     "text": [
      "[0, 0, 0, 0, 0]\n"
     ]
    }
   ],
   "source": [
    "a = []\n",
    "for i in range(5):\n",
    "    a.append(0)\n",
    "print(a)"
   ]
  },
  {
   "cell_type": "code",
   "execution_count": 43,
   "id": "91b2ac8e",
   "metadata": {},
   "outputs": [
    {
     "name": "stdout",
     "output_type": "stream",
     "text": [
      "[0, 1, 2, 3, 4]\n"
     ]
    }
   ],
   "source": [
    "a = [i for i in range(5)]\n",
    "print(a)"
   ]
  },
  {
   "cell_type": "code",
   "execution_count": 44,
   "id": "c0c81377",
   "metadata": {},
   "outputs": [
    {
     "name": "stdout",
     "output_type": "stream",
     "text": [
      "{'a': 0, 'b': 0, 'c': 0, 'd': 0}\n"
     ]
    }
   ],
   "source": [
    "a = ['a', 'b', 'c', 'd']\n",
    "adict = {item: 0 for item in a}\n",
    "print(adict)"
   ]
  },
  {
   "cell_type": "code",
   "execution_count": 45,
   "id": "450a46bf",
   "metadata": {},
   "outputs": [
    {
     "name": "stdout",
     "output_type": "stream",
     "text": [
      "{1, 2}\n"
     ]
    }
   ],
   "source": [
    "mylist = [1, 2, 1, 1, 2]\n",
    "myset = set(mylist)\n",
    "print(myset)"
   ]
  },
  {
   "cell_type": "code",
   "execution_count": 46,
   "id": "71099aaa",
   "metadata": {},
   "outputs": [
    {
     "data": {
      "text/plain": [
       "['__and__',\n",
       " '__class__',\n",
       " '__class_getitem__',\n",
       " '__contains__',\n",
       " '__delattr__',\n",
       " '__dir__',\n",
       " '__doc__',\n",
       " '__eq__',\n",
       " '__format__',\n",
       " '__ge__',\n",
       " '__getattribute__',\n",
       " '__gt__',\n",
       " '__hash__',\n",
       " '__iand__',\n",
       " '__init__',\n",
       " '__init_subclass__',\n",
       " '__ior__',\n",
       " '__isub__',\n",
       " '__iter__',\n",
       " '__ixor__',\n",
       " '__le__',\n",
       " '__len__',\n",
       " '__lt__',\n",
       " '__ne__',\n",
       " '__new__',\n",
       " '__or__',\n",
       " '__rand__',\n",
       " '__reduce__',\n",
       " '__reduce_ex__',\n",
       " '__repr__',\n",
       " '__ror__',\n",
       " '__rsub__',\n",
       " '__rxor__',\n",
       " '__setattr__',\n",
       " '__sizeof__',\n",
       " '__str__',\n",
       " '__sub__',\n",
       " '__subclasshook__',\n",
       " '__xor__',\n",
       " 'add',\n",
       " 'clear',\n",
       " 'copy',\n",
       " 'difference',\n",
       " 'difference_update',\n",
       " 'discard',\n",
       " 'intersection',\n",
       " 'intersection_update',\n",
       " 'isdisjoint',\n",
       " 'issubset',\n",
       " 'issuperset',\n",
       " 'pop',\n",
       " 'remove',\n",
       " 'symmetric_difference',\n",
       " 'symmetric_difference_update',\n",
       " 'union',\n",
       " 'update']"
      ]
     },
     "execution_count": 46,
     "metadata": {},
     "output_type": "execute_result"
    }
   ],
   "source": [
    "dir(myset)"
   ]
  },
  {
   "cell_type": "code",
   "execution_count": 49,
   "id": "ce392163",
   "metadata": {},
   "outputs": [
    {
     "data": {
      "text/plain": [
       "{2}"
      ]
     },
     "execution_count": 49,
     "metadata": {},
     "output_type": "execute_result"
    }
   ],
   "source": [
    "myset.intersection({2, 3})"
   ]
  },
  {
   "cell_type": "code",
   "execution_count": null,
   "id": "8d02a85e",
   "metadata": {},
   "outputs": [],
   "source": [
    "# set, list, tuple"
   ]
  },
  {
   "cell_type": "code",
   "execution_count": 50,
   "id": "e0d057c5",
   "metadata": {},
   "outputs": [
    {
     "name": "stdout",
     "output_type": "stream",
     "text": [
      "{1, 2, 3}\n"
     ]
    }
   ],
   "source": [
    "myset = {1 , 2, 3, 1}\n",
    "print(myset)"
   ]
  },
  {
   "cell_type": "code",
   "execution_count": 51,
   "id": "30d101a4",
   "metadata": {},
   "outputs": [
    {
     "data": {
      "text/plain": [
       "['__and__',\n",
       " '__class__',\n",
       " '__class_getitem__',\n",
       " '__contains__',\n",
       " '__delattr__',\n",
       " '__dir__',\n",
       " '__doc__',\n",
       " '__eq__',\n",
       " '__format__',\n",
       " '__ge__',\n",
       " '__getattribute__',\n",
       " '__gt__',\n",
       " '__hash__',\n",
       " '__iand__',\n",
       " '__init__',\n",
       " '__init_subclass__',\n",
       " '__ior__',\n",
       " '__isub__',\n",
       " '__iter__',\n",
       " '__ixor__',\n",
       " '__le__',\n",
       " '__len__',\n",
       " '__lt__',\n",
       " '__ne__',\n",
       " '__new__',\n",
       " '__or__',\n",
       " '__rand__',\n",
       " '__reduce__',\n",
       " '__reduce_ex__',\n",
       " '__repr__',\n",
       " '__ror__',\n",
       " '__rsub__',\n",
       " '__rxor__',\n",
       " '__setattr__',\n",
       " '__sizeof__',\n",
       " '__str__',\n",
       " '__sub__',\n",
       " '__subclasshook__',\n",
       " '__xor__',\n",
       " 'add',\n",
       " 'clear',\n",
       " 'copy',\n",
       " 'difference',\n",
       " 'difference_update',\n",
       " 'discard',\n",
       " 'intersection',\n",
       " 'intersection_update',\n",
       " 'isdisjoint',\n",
       " 'issubset',\n",
       " 'issuperset',\n",
       " 'pop',\n",
       " 'remove',\n",
       " 'symmetric_difference',\n",
       " 'symmetric_difference_update',\n",
       " 'union',\n",
       " 'update']"
      ]
     },
     "execution_count": 51,
     "metadata": {},
     "output_type": "execute_result"
    }
   ],
   "source": [
    "dir(myset)"
   ]
  },
  {
   "cell_type": "code",
   "execution_count": null,
   "id": "f10cae51",
   "metadata": {},
   "outputs": [],
   "source": [
    "# int x = 0\n",
    "# while (x<7) {\n",
    "#     x += 1;\n",
    "#     cout << x;\n",
    "# }\n",
    "\n",
    "x = 0\n",
    "while x<7:\n",
    "    x += 1\n",
    "    if x%2 == 0:\n",
    "        print(x)"
   ]
  },
  {
   "cell_type": "code",
   "execution_count": 53,
   "id": "4954ea82",
   "metadata": {},
   "outputs": [
    {
     "name": "stdout",
     "output_type": "stream",
     "text": [
      "2\n",
      "3\n",
      "4\n",
      "[1, 2, 3]\n",
      "[2, 2, 4]\n"
     ]
    }
   ],
   "source": [
    "mylist = [1, 2 ,3]\n",
    "for item in mylist:\n",
    "    item += 1\n",
    "    print(item)\n",
    "\n",
    "print(mylist)\n",
    "\n",
    "for index in range(0, len(mylist), 2): # range(3) --> [0, 2]\n",
    "    mylist[index] += 1\n",
    "    \n",
    "print(mylist)"
   ]
  },
  {
   "cell_type": "code",
   "execution_count": 59,
   "id": "b508f5b8",
   "metadata": {},
   "outputs": [],
   "source": [
    "a = 'kfjglehlighesbggbvejanfvlqnavlje'"
   ]
  },
  {
   "cell_type": "code",
   "execution_count": 62,
   "id": "c5910045",
   "metadata": {},
   "outputs": [],
   "source": [
    "a = 'kfjglehlighesbggbvejanfvlqnavlje'\n",
    "mydict = dict() # {}\n",
    "for letter in a:\n",
    "    mydict[letter] = a.count(letter)"
   ]
  },
  {
   "cell_type": "code",
   "execution_count": 61,
   "id": "bbe9969c",
   "metadata": {},
   "outputs": [],
   "source": [
    "a.count?"
   ]
  },
  {
   "cell_type": "code",
   "execution_count": 63,
   "id": "51b1f237",
   "metadata": {},
   "outputs": [
    {
     "name": "stdout",
     "output_type": "stream",
     "text": [
      "{'k': 1, 'f': 2, 'j': 3, 'g': 4, 'l': 4, 'e': 4, 'h': 2, 'i': 1, 's': 1, 'b': 2, 'v': 3, 'a': 2, 'n': 2, 'q': 1}\n"
     ]
    }
   ],
   "source": [
    "print(mydict)"
   ]
  },
  {
   "cell_type": "code",
   "execution_count": 1,
   "id": "52dc17eb",
   "metadata": {},
   "outputs": [],
   "source": [
    "mystr = 'hello world'\n"
   ]
  },
  {
   "cell_type": "code",
   "execution_count": 7,
   "id": "e8652aca",
   "metadata": {},
   "outputs": [
    {
     "data": {
      "text/plain": [
       "True"
      ]
     },
     "execution_count": 7,
     "metadata": {},
     "output_type": "execute_result"
    }
   ],
   "source": [
    "mystr.endswith('d')"
   ]
  },
  {
   "cell_type": "code",
   "execution_count": null,
   "id": "971126b7",
   "metadata": {},
   "outputs": [],
   "source": [
    "int x, y, z;\n",
    "cin >> x >> y >> z;"
   ]
  },
  {
   "cell_type": "code",
   "execution_count": null,
   "id": "4f1a11ed",
   "metadata": {},
   "outputs": [],
   "source": [
    "inp = input() # string 1 2 3 --> \"1 2 3\"\n"
   ]
  },
  {
   "cell_type": "code",
   "execution_count": 15,
   "id": "9f07781f",
   "metadata": {},
   "outputs": [],
   "source": [
    "inp = \"1 2 3\".split()"
   ]
  },
  {
   "cell_type": "code",
   "execution_count": 17,
   "id": "bd1a0da3",
   "metadata": {},
   "outputs": [
    {
     "data": {
      "text/plain": [
       "[1, 2, 3]"
      ]
     },
     "execution_count": 17,
     "metadata": {},
     "output_type": "execute_result"
    }
   ],
   "source": [
    "for index in range(len(inp)):\n",
    "    inp[index] = int(inp[index])\n",
    "inp"
   ]
  },
  {
   "cell_type": "code",
   "execution_count": 36,
   "id": "0bc2190a",
   "metadata": {},
   "outputs": [
    {
     "name": "stdout",
     "output_type": "stream",
     "text": [
      "a 1 2\n",
      "invalid input\n",
      "done\n"
     ]
    }
   ],
   "source": [
    "inp = input().split() # ['1', '2', '3']\n",
    "try:\n",
    "    inp = list(map(int, inp))\n",
    "except:\n",
    "    print('invalid input')\n",
    "else:\n",
    "    pass\n",
    "\n",
    "print('done')\n"
   ]
  },
  {
   "cell_type": "code",
   "execution_count": 19,
   "id": "5be81430",
   "metadata": {},
   "outputs": [],
   "source": [
    "def plus1(i): \n",
    "    return i+1"
   ]
  },
  {
   "cell_type": "code",
   "execution_count": 20,
   "id": "ded8c766",
   "metadata": {},
   "outputs": [
    {
     "data": {
      "text/plain": [
       "[2, 3, 4]"
      ]
     },
     "execution_count": 20,
     "metadata": {},
     "output_type": "execute_result"
    }
   ],
   "source": [
    "list(map(plus1, inp))"
   ]
  },
  {
   "cell_type": "code",
   "execution_count": 21,
   "id": "8a6eba0a",
   "metadata": {},
   "outputs": [
    {
     "data": {
      "text/plain": [
       "[2, 4, 6]"
      ]
     },
     "execution_count": 21,
     "metadata": {},
     "output_type": "execute_result"
    }
   ],
   "source": [
    "list(map(lambda i: i*2, inp))"
   ]
  },
  {
   "cell_type": "code",
   "execution_count": 31,
   "id": "1a6f2d75",
   "metadata": {},
   "outputs": [],
   "source": [
    "def mul3(inp):\n",
    "    if type(inp) == int:\n",
    "        return inp*3\n",
    "    if type(inp) == str and inp.isdigit():\n",
    "        return int(inp)*3\n",
    "    else:\n",
    "        raise TypeError(\"input must be a number\")"
   ]
  },
  {
   "cell_type": "code",
   "execution_count": 32,
   "id": "b2cbd9b4",
   "metadata": {},
   "outputs": [
    {
     "data": {
      "text/plain": [
       "3"
      ]
     },
     "execution_count": 32,
     "metadata": {},
     "output_type": "execute_result"
    }
   ],
   "source": [
    "mul3(1)"
   ]
  },
  {
   "cell_type": "code",
   "execution_count": 33,
   "id": "9a84b813",
   "metadata": {},
   "outputs": [
    {
     "ename": "TypeError",
     "evalue": "input must be a number",
     "output_type": "error",
     "traceback": [
      "\u001b[1;31m---------------------------------------------------------------------------\u001b[0m",
      "\u001b[1;31mTypeError\u001b[0m                                 Traceback (most recent call last)",
      "Input \u001b[1;32mIn [33]\u001b[0m, in \u001b[0;36m<cell line: 1>\u001b[1;34m()\u001b[0m\n\u001b[1;32m----> 1\u001b[0m \u001b[43mmul3\u001b[49m\u001b[43m(\u001b[49m\u001b[38;5;124;43m'\u001b[39;49m\u001b[38;5;124;43msalam\u001b[39;49m\u001b[38;5;124;43m'\u001b[39;49m\u001b[43m)\u001b[49m\n",
      "Input \u001b[1;32mIn [31]\u001b[0m, in \u001b[0;36mmul3\u001b[1;34m(inp)\u001b[0m\n\u001b[0;32m      5\u001b[0m     \u001b[38;5;28;01mreturn\u001b[39;00m \u001b[38;5;28mint\u001b[39m(inp)\u001b[38;5;241m*\u001b[39m\u001b[38;5;241m3\u001b[39m\n\u001b[0;32m      6\u001b[0m \u001b[38;5;28;01melse\u001b[39;00m:\n\u001b[1;32m----> 7\u001b[0m     \u001b[38;5;28;01mraise\u001b[39;00m \u001b[38;5;167;01mTypeError\u001b[39;00m(\u001b[38;5;124m\"\u001b[39m\u001b[38;5;124minput must be a number\u001b[39m\u001b[38;5;124m\"\u001b[39m)\n",
      "\u001b[1;31mTypeError\u001b[0m: input must be a number"
     ]
    }
   ],
   "source": [
    "mul3('salam')"
   ]
  },
  {
   "cell_type": "code",
   "execution_count": 34,
   "id": "f2837a58",
   "metadata": {},
   "outputs": [
    {
     "ename": "TypeError",
     "evalue": "input must be a number",
     "output_type": "error",
     "traceback": [
      "\u001b[1;31m---------------------------------------------------------------------------\u001b[0m",
      "\u001b[1;31mTypeError\u001b[0m                                 Traceback (most recent call last)",
      "Input \u001b[1;32mIn [34]\u001b[0m, in \u001b[0;36m<cell line: 1>\u001b[1;34m()\u001b[0m\n\u001b[1;32m----> 1\u001b[0m \u001b[43mmul3\u001b[49m\u001b[43m(\u001b[49m\u001b[43m[\u001b[49m\u001b[38;5;241;43m1\u001b[39;49m\u001b[43m,\u001b[49m\u001b[43m \u001b[49m\u001b[38;5;241;43m2\u001b[39;49m\u001b[43m]\u001b[49m\u001b[43m)\u001b[49m\n",
      "Input \u001b[1;32mIn [31]\u001b[0m, in \u001b[0;36mmul3\u001b[1;34m(inp)\u001b[0m\n\u001b[0;32m      5\u001b[0m     \u001b[38;5;28;01mreturn\u001b[39;00m \u001b[38;5;28mint\u001b[39m(inp)\u001b[38;5;241m*\u001b[39m\u001b[38;5;241m3\u001b[39m\n\u001b[0;32m      6\u001b[0m \u001b[38;5;28;01melse\u001b[39;00m:\n\u001b[1;32m----> 7\u001b[0m     \u001b[38;5;28;01mraise\u001b[39;00m \u001b[38;5;167;01mTypeError\u001b[39;00m(\u001b[38;5;124m\"\u001b[39m\u001b[38;5;124minput must be a number\u001b[39m\u001b[38;5;124m\"\u001b[39m)\n",
      "\u001b[1;31mTypeError\u001b[0m: input must be a number"
     ]
    }
   ],
   "source": [
    "mul3([1, 2])"
   ]
  },
  {
   "cell_type": "code",
   "execution_count": 37,
   "id": "887cd5b8",
   "metadata": {},
   "outputs": [],
   "source": [
    "def welcome():\n",
    "    print('hello')\n",
    "    return None"
   ]
  },
  {
   "cell_type": "code",
   "execution_count": 56,
   "id": "b7ef8125",
   "metadata": {},
   "outputs": [],
   "source": [
    "x = welcome"
   ]
  },
  {
   "cell_type": "code",
   "execution_count": 59,
   "id": "7a5485c7",
   "metadata": {},
   "outputs": [
    {
     "data": {
      "text/plain": [
       "1823107558864"
      ]
     },
     "execution_count": 59,
     "metadata": {},
     "output_type": "execute_result"
    }
   ],
   "source": [
    "id(x)"
   ]
  },
  {
   "cell_type": "code",
   "execution_count": 60,
   "id": "92958846",
   "metadata": {},
   "outputs": [
    {
     "data": {
      "text/plain": [
       "1823107558864"
      ]
     },
     "execution_count": 60,
     "metadata": {},
     "output_type": "execute_result"
    }
   ],
   "source": [
    "id(welcome)"
   ]
  },
  {
   "cell_type": "code",
   "execution_count": 44,
   "id": "1ded5bc0",
   "metadata": {},
   "outputs": [
    {
     "name": "stdout",
     "output_type": "stream",
     "text": [
      "hello\n"
     ]
    }
   ],
   "source": [
    "welcome()"
   ]
  },
  {
   "cell_type": "code",
   "execution_count": 48,
   "id": "8850a5e5",
   "metadata": {},
   "outputs": [],
   "source": [
    "def f(x):\n",
    "    print(\"x\" , x, sep = \" | \")\n",
    "    return x*2"
   ]
  },
  {
   "cell_type": "code",
   "execution_count": 49,
   "id": "16a53453",
   "metadata": {},
   "outputs": [
    {
     "name": "stdout",
     "output_type": "stream",
     "text": [
      "x | 2\n"
     ]
    }
   ],
   "source": [
    "y = f(2)"
   ]
  },
  {
   "cell_type": "code",
   "execution_count": 50,
   "id": "d626929f",
   "metadata": {},
   "outputs": [
    {
     "name": "stdout",
     "output_type": "stream",
     "text": [
      "4\n"
     ]
    }
   ],
   "source": [
    "print(y)"
   ]
  },
  {
   "cell_type": "code",
   "execution_count": 51,
   "id": "d7d437c0",
   "metadata": {},
   "outputs": [
    {
     "name": "stdout",
     "output_type": "stream",
     "text": [
      "x | 2\n"
     ]
    },
    {
     "data": {
      "text/plain": [
       "4"
      ]
     },
     "execution_count": 51,
     "metadata": {},
     "output_type": "execute_result"
    }
   ],
   "source": [
    "f(2)"
   ]
  },
  {
   "cell_type": "code",
   "execution_count": 52,
   "id": "194f689b",
   "metadata": {},
   "outputs": [],
   "source": [
    "def f(x, y):\n",
    "    return [x+y , x*y, x-y, x/y]"
   ]
  },
  {
   "cell_type": "code",
   "execution_count": 53,
   "id": "39f05dbc",
   "metadata": {},
   "outputs": [],
   "source": [
    "l = f(2, 3)"
   ]
  },
  {
   "cell_type": "code",
   "execution_count": 55,
   "id": "a4639e01",
   "metadata": {},
   "outputs": [
    {
     "name": "stdout",
     "output_type": "stream",
     "text": [
      "5\n"
     ]
    }
   ],
   "source": [
    "print(l[0])"
   ]
  },
  {
   "cell_type": "code",
   "execution_count": 61,
   "id": "47dc2fe1",
   "metadata": {},
   "outputs": [
    {
     "ename": "TypeError",
     "evalue": "f() missing 1 required positional argument: 'y'",
     "output_type": "error",
     "traceback": [
      "\u001b[1;31m---------------------------------------------------------------------------\u001b[0m",
      "\u001b[1;31mTypeError\u001b[0m                                 Traceback (most recent call last)",
      "Input \u001b[1;32mIn [61]\u001b[0m, in \u001b[0;36m<cell line: 1>\u001b[1;34m()\u001b[0m\n\u001b[1;32m----> 1\u001b[0m \u001b[43mf\u001b[49m\u001b[43m(\u001b[49m\u001b[38;5;241;43m2\u001b[39;49m\u001b[43m)\u001b[49m\n",
      "\u001b[1;31mTypeError\u001b[0m: f() missing 1 required positional argument: 'y'"
     ]
    }
   ],
   "source": [
    "f(2)"
   ]
  },
  {
   "cell_type": "code",
   "execution_count": 62,
   "id": "52c46438",
   "metadata": {},
   "outputs": [],
   "source": [
    "def a():\n",
    "    print('a')\n",
    "    \n",
    "def b():\n",
    "    print('b')\n",
    "    \n",
    "def c():\n",
    "    print('c')"
   ]
  },
  {
   "cell_type": "code",
   "execution_count": 63,
   "id": "fc609992",
   "metadata": {},
   "outputs": [
    {
     "name": "stdout",
     "output_type": "stream",
     "text": [
      "a\n",
      "b\n",
      "c\n"
     ]
    }
   ],
   "source": [
    "for f in [a, b, c]:\n",
    "    f()"
   ]
  },
  {
   "cell_type": "code",
   "execution_count": 65,
   "id": "df745435",
   "metadata": {},
   "outputs": [],
   "source": [
    "# 'text.txt'\n",
    "myfile = open('text.txt', 'w')\n",
    "print(\"salam\", file = myfile)\n",
    "myfile.close()"
   ]
  },
  {
   "cell_type": "code",
   "execution_count": 73,
   "id": "c105137f",
   "metadata": {},
   "outputs": [
    {
     "name": "stdout",
     "output_type": "stream",
     "text": [
      "salam\n",
      ";slflfkglkjfng\n",
      "akjnfjknfv\n",
      "ksjdlfjksgfv\n",
      "kjasdnfjhbargv\n",
      "k,jnsf,jkgnjk\n"
     ]
    }
   ],
   "source": [
    "myfile = open('text.txt', 'r')\n",
    "for line in myfile:\n",
    "    line = line.strip()\n",
    "    print(line)"
   ]
  },
  {
   "cell_type": "code",
   "execution_count": 74,
   "id": "582335b7",
   "metadata": {},
   "outputs": [],
   "source": [
    "lines = myfile.readlines()"
   ]
  },
  {
   "cell_type": "code",
   "execution_count": 75,
   "id": "f4365eff",
   "metadata": {},
   "outputs": [
    {
     "data": {
      "text/plain": [
       "[]"
      ]
     },
     "execution_count": 75,
     "metadata": {},
     "output_type": "execute_result"
    }
   ],
   "source": [
    "lines"
   ]
  },
  {
   "cell_type": "code",
   "execution_count": 67,
   "id": "4c0baf41",
   "metadata": {},
   "outputs": [],
   "source": [
    "myfile = open('text.txt', 'r')\n",
    "lines = myfile.readlines()"
   ]
  },
  {
   "cell_type": "code",
   "execution_count": 68,
   "id": "6d2fdb2c",
   "metadata": {},
   "outputs": [
    {
     "data": {
      "text/plain": [
       "['salam\\n',\n",
       " ';slflfkglkjfng\\n',\n",
       " 'akjnfjknfv\\n',\n",
       " 'ksjdlfjksgfv\\n',\n",
       " 'kjasdnfjhbargv\\n',\n",
       " 'k,jnsf,jkgnjk']"
      ]
     },
     "execution_count": 68,
     "metadata": {},
     "output_type": "execute_result"
    }
   ],
   "source": [
    "lines"
   ]
  },
  {
   "cell_type": "code",
   "execution_count": 69,
   "id": "477d50c6",
   "metadata": {},
   "outputs": [],
   "source": [
    "print?"
   ]
  },
  {
   "cell_type": "code",
   "execution_count": 77,
   "id": "f9fd8381",
   "metadata": {},
   "outputs": [
    {
     "name": "stdout",
     "output_type": "stream",
     "text": [
      "[1, 2, 3, 2]\n"
     ]
    }
   ],
   "source": [
    "l = [1, 2, 3]\n",
    "def f(x):\n",
    "    l.append(x)\n",
    "\n",
    "f(2)\n",
    "print(l)"
   ]
  },
  {
   "cell_type": "code",
   "execution_count": 79,
   "id": "1d9a93d7",
   "metadata": {},
   "outputs": [
    {
     "name": "stdout",
     "output_type": "stream",
     "text": [
      "2, 3\n"
     ]
    }
   ],
   "source": [
    "a = 2\n",
    "b = 3\n",
    "print(f\"{a}, {b}\")"
   ]
  },
  {
   "cell_type": "code",
   "execution_count": 80,
   "id": "2d80238e",
   "metadata": {},
   "outputs": [
    {
     "name": "stdout",
     "output_type": "stream",
     "text": [
      "y\n"
     ]
    }
   ],
   "source": [
    "temp = 50\n",
    "if temp < 0 :\n",
    "    print('x')\n",
    "elif temp < 100 : # 0 <= temp < 100\n",
    "    print('y')\n",
    "else:\n",
    "    print('z')"
   ]
  },
  {
   "cell_type": "code",
   "execution_count": 83,
   "id": "529df20d",
   "metadata": {},
   "outputs": [
    {
     "name": "stdout",
     "output_type": "stream",
     "text": [
      "is prime\n"
     ]
    }
   ],
   "source": [
    "n = 19\n",
    "for i in range(2, n):\n",
    "    if n % i :\n",
    "        pass\n",
    "else:\n",
    "    print('is prime')"
   ]
  },
  {
   "cell_type": "code",
   "execution_count": null,
   "id": "8f43a0ba",
   "metadata": {},
   "outputs": [],
   "source": [
    "def f(x):\n",
    "    def g(y):\n",
    "        return y+1\n",
    "    return g(2) + 8"
   ]
  },
  {
   "cell_type": "code",
   "execution_count": 86,
   "id": "a1ae9db1",
   "metadata": {},
   "outputs": [
    {
     "name": "stdout",
     "output_type": "stream",
     "text": [
      "13\n",
      "13\n"
     ]
    }
   ],
   "source": [
    "x = 10\n",
    "def f(y): \n",
    "    global x\n",
    "    x += 3\n",
    "    print(x)\n",
    "f(2)  \n",
    "x = 12\n",
    "print(x)"
   ]
  },
  {
   "cell_type": "code",
   "execution_count": null,
   "id": "52d65cb5",
   "metadata": {},
   "outputs": [],
   "source": []
  }
 ],
 "metadata": {
  "kernelspec": {
   "display_name": "Python 3 (ipykernel)",
   "language": "python",
   "name": "python3"
  },
  "language_info": {
   "codemirror_mode": {
    "name": "ipython",
    "version": 3
   },
   "file_extension": ".py",
   "mimetype": "text/x-python",
   "name": "python",
   "nbconvert_exporter": "python",
   "pygments_lexer": "ipython3",
   "version": "3.10.6"
  }
 },
 "nbformat": 4,
 "nbformat_minor": 5
}
